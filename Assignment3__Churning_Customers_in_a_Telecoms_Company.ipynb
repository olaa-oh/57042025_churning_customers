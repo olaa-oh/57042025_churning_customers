{
  "cells": [
    {
      "cell_type": "code",
      "execution_count": 2,
      "metadata": {
        "colab": {
          "base_uri": "https://localhost:8080/"
        },
        "id": "br2vEGrBVqGp",
        "outputId": "52fa4fde-44e3-401e-b5a0-473bf153543d"
      },
      "outputs": [
        {
          "output_type": "stream",
          "name": "stdout",
          "text": [
            "Mounted at /content/drive\n"
          ]
        }
      ],
      "source": [
        "import pandas as pd\n",
        "import pickle\n",
        "from google.colab import drive\n",
        "drive.mount('/content/drive')\n",
        "import numpy as np\n",
        "import seaborn as sb\n",
        "import matplotlib.pyplot as plt\n",
        "from sklearn.ensemble import RandomForestClassifier\n",
        "from sklearn.model_selection import train_test_split\n",
        "from sklearn.preprocessing import StandardScaler\n",
        "from sklearn import preprocessing\n",
        "from sklearn.feature_selection import SelectFromModel\n",
        "import tensorflow as tf\n",
        "from tensorflow.keras.layers import Input, Dense, Flatten\n",
        "from tensorflow.keras.models import Model\n",
        "from keras.optimizers import Adam\n",
        "from keras.utils import to_categorical\n",
        "from sklearn.metrics import classification_report"
      ]
    },
    {
      "cell_type": "code",
      "execution_count": 3,
      "metadata": {
        "colab": {
          "base_uri": "https://localhost:8080/"
        },
        "id": "RFc8N-DDCdcV",
        "outputId": "2196c302-6546-40f9-8e24-3a5671dbc65e"
      },
      "outputs": [
        {
          "output_type": "stream",
          "name": "stdout",
          "text": [
            "Requirement already satisfied: tensorflow in /usr/local/lib/python3.10/dist-packages (2.14.0)\n",
            "Collecting scikeras\n",
            "  Downloading scikeras-0.12.0-py3-none-any.whl (27 kB)\n",
            "Requirement already satisfied: scikit-learn in /usr/local/lib/python3.10/dist-packages (1.2.2)\n",
            "Requirement already satisfied: absl-py>=1.0.0 in /usr/local/lib/python3.10/dist-packages (from tensorflow) (1.4.0)\n",
            "Requirement already satisfied: astunparse>=1.6.0 in /usr/local/lib/python3.10/dist-packages (from tensorflow) (1.6.3)\n",
            "Requirement already satisfied: flatbuffers>=23.5.26 in /usr/local/lib/python3.10/dist-packages (from tensorflow) (23.5.26)\n",
            "Requirement already satisfied: gast!=0.5.0,!=0.5.1,!=0.5.2,>=0.2.1 in /usr/local/lib/python3.10/dist-packages (from tensorflow) (0.5.4)\n",
            "Requirement already satisfied: google-pasta>=0.1.1 in /usr/local/lib/python3.10/dist-packages (from tensorflow) (0.2.0)\n",
            "Requirement already satisfied: h5py>=2.9.0 in /usr/local/lib/python3.10/dist-packages (from tensorflow) (3.9.0)\n",
            "Requirement already satisfied: libclang>=13.0.0 in /usr/local/lib/python3.10/dist-packages (from tensorflow) (16.0.6)\n",
            "Requirement already satisfied: ml-dtypes==0.2.0 in /usr/local/lib/python3.10/dist-packages (from tensorflow) (0.2.0)\n",
            "Requirement already satisfied: numpy>=1.23.5 in /usr/local/lib/python3.10/dist-packages (from tensorflow) (1.23.5)\n",
            "Requirement already satisfied: opt-einsum>=2.3.2 in /usr/local/lib/python3.10/dist-packages (from tensorflow) (3.3.0)\n",
            "Requirement already satisfied: packaging in /usr/local/lib/python3.10/dist-packages (from tensorflow) (23.2)\n",
            "Requirement already satisfied: protobuf!=4.21.0,!=4.21.1,!=4.21.2,!=4.21.3,!=4.21.4,!=4.21.5,<5.0.0dev,>=3.20.3 in /usr/local/lib/python3.10/dist-packages (from tensorflow) (3.20.3)\n",
            "Requirement already satisfied: setuptools in /usr/local/lib/python3.10/dist-packages (from tensorflow) (67.7.2)\n",
            "Requirement already satisfied: six>=1.12.0 in /usr/local/lib/python3.10/dist-packages (from tensorflow) (1.16.0)\n",
            "Requirement already satisfied: termcolor>=1.1.0 in /usr/local/lib/python3.10/dist-packages (from tensorflow) (2.3.0)\n",
            "Requirement already satisfied: typing-extensions>=3.6.6 in /usr/local/lib/python3.10/dist-packages (from tensorflow) (4.5.0)\n",
            "Requirement already satisfied: wrapt<1.15,>=1.11.0 in /usr/local/lib/python3.10/dist-packages (from tensorflow) (1.14.1)\n",
            "Requirement already satisfied: tensorflow-io-gcs-filesystem>=0.23.1 in /usr/local/lib/python3.10/dist-packages (from tensorflow) (0.34.0)\n",
            "Requirement already satisfied: grpcio<2.0,>=1.24.3 in /usr/local/lib/python3.10/dist-packages (from tensorflow) (1.59.2)\n",
            "Requirement already satisfied: tensorboard<2.15,>=2.14 in /usr/local/lib/python3.10/dist-packages (from tensorflow) (2.14.1)\n",
            "Requirement already satisfied: tensorflow-estimator<2.15,>=2.14.0 in /usr/local/lib/python3.10/dist-packages (from tensorflow) (2.14.0)\n",
            "Requirement already satisfied: keras<2.15,>=2.14.0 in /usr/local/lib/python3.10/dist-packages (from tensorflow) (2.14.0)\n",
            "Requirement already satisfied: scipy>=1.3.2 in /usr/local/lib/python3.10/dist-packages (from scikit-learn) (1.11.3)\n",
            "Requirement already satisfied: joblib>=1.1.1 in /usr/local/lib/python3.10/dist-packages (from scikit-learn) (1.3.2)\n",
            "Requirement already satisfied: threadpoolctl>=2.0.0 in /usr/local/lib/python3.10/dist-packages (from scikit-learn) (3.2.0)\n",
            "Requirement already satisfied: wheel<1.0,>=0.23.0 in /usr/local/lib/python3.10/dist-packages (from astunparse>=1.6.0->tensorflow) (0.41.3)\n",
            "Requirement already satisfied: google-auth<3,>=1.6.3 in /usr/local/lib/python3.10/dist-packages (from tensorboard<2.15,>=2.14->tensorflow) (2.17.3)\n",
            "Requirement already satisfied: google-auth-oauthlib<1.1,>=0.5 in /usr/local/lib/python3.10/dist-packages (from tensorboard<2.15,>=2.14->tensorflow) (1.0.0)\n",
            "Requirement already satisfied: markdown>=2.6.8 in /usr/local/lib/python3.10/dist-packages (from tensorboard<2.15,>=2.14->tensorflow) (3.5.1)\n",
            "Requirement already satisfied: requests<3,>=2.21.0 in /usr/local/lib/python3.10/dist-packages (from tensorboard<2.15,>=2.14->tensorflow) (2.31.0)\n",
            "Requirement already satisfied: tensorboard-data-server<0.8.0,>=0.7.0 in /usr/local/lib/python3.10/dist-packages (from tensorboard<2.15,>=2.14->tensorflow) (0.7.2)\n",
            "Requirement already satisfied: werkzeug>=1.0.1 in /usr/local/lib/python3.10/dist-packages (from tensorboard<2.15,>=2.14->tensorflow) (3.0.1)\n",
            "Requirement already satisfied: cachetools<6.0,>=2.0.0 in /usr/local/lib/python3.10/dist-packages (from google-auth<3,>=1.6.3->tensorboard<2.15,>=2.14->tensorflow) (5.3.2)\n",
            "Requirement already satisfied: pyasn1-modules>=0.2.1 in /usr/local/lib/python3.10/dist-packages (from google-auth<3,>=1.6.3->tensorboard<2.15,>=2.14->tensorflow) (0.3.0)\n",
            "Requirement already satisfied: rsa<5,>=3.1.4 in /usr/local/lib/python3.10/dist-packages (from google-auth<3,>=1.6.3->tensorboard<2.15,>=2.14->tensorflow) (4.9)\n",
            "Requirement already satisfied: requests-oauthlib>=0.7.0 in /usr/local/lib/python3.10/dist-packages (from google-auth-oauthlib<1.1,>=0.5->tensorboard<2.15,>=2.14->tensorflow) (1.3.1)\n",
            "Requirement already satisfied: charset-normalizer<4,>=2 in /usr/local/lib/python3.10/dist-packages (from requests<3,>=2.21.0->tensorboard<2.15,>=2.14->tensorflow) (3.3.2)\n",
            "Requirement already satisfied: idna<4,>=2.5 in /usr/local/lib/python3.10/dist-packages (from requests<3,>=2.21.0->tensorboard<2.15,>=2.14->tensorflow) (3.4)\n",
            "Requirement already satisfied: urllib3<3,>=1.21.1 in /usr/local/lib/python3.10/dist-packages (from requests<3,>=2.21.0->tensorboard<2.15,>=2.14->tensorflow) (2.0.7)\n",
            "Requirement already satisfied: certifi>=2017.4.17 in /usr/local/lib/python3.10/dist-packages (from requests<3,>=2.21.0->tensorboard<2.15,>=2.14->tensorflow) (2023.7.22)\n",
            "Requirement already satisfied: MarkupSafe>=2.1.1 in /usr/local/lib/python3.10/dist-packages (from werkzeug>=1.0.1->tensorboard<2.15,>=2.14->tensorflow) (2.1.3)\n",
            "Requirement already satisfied: pyasn1<0.6.0,>=0.4.6 in /usr/local/lib/python3.10/dist-packages (from pyasn1-modules>=0.2.1->google-auth<3,>=1.6.3->tensorboard<2.15,>=2.14->tensorflow) (0.5.0)\n",
            "Requirement already satisfied: oauthlib>=3.0.0 in /usr/local/lib/python3.10/dist-packages (from requests-oauthlib>=0.7.0->google-auth-oauthlib<1.1,>=0.5->tensorboard<2.15,>=2.14->tensorflow) (3.2.2)\n",
            "Installing collected packages: scikeras\n",
            "Successfully installed scikeras-0.12.0\n"
          ]
        }
      ],
      "source": [
        "!pip install tensorflow scikeras scikit-learn"
      ]
    },
    {
      "cell_type": "code",
      "execution_count": 4,
      "metadata": {
        "id": "ZUDaRtJuBRtT"
      },
      "outputs": [],
      "source": [
        "#grid search\n",
        "from sklearn.metrics import accuracy_score,roc_auc_score\n",
        "from sklearn import metrics\n",
        "from sklearn.model_selection import GridSearchCV\n",
        "from tensorflow.keras.models import Sequential\n",
        "from tensorflow.keras.layers import Dense\n",
        "from scikeras.wrappers import KerasClassifier\n",
        "from sklearn.model_selection import StratifiedKFold\n",
        "from tensorflow.keras.layers import Dropout\n",
        "from sklearn.model_selection import cross_val_score\n",
        "from numpy import mean\n",
        "from numpy import std\n",
        "from tensorflow.keras.constraints import MaxNorm\n",
        "from sklearn.metrics import matthews_corrcoef\n",
        "from imblearn.metrics import geometric_mean_score\n"
      ]
    },
    {
      "cell_type": "code",
      "execution_count": 5,
      "metadata": {
        "id": "zZD9bA89WHYC"
      },
      "outputs": [],
      "source": [
        "path = '/content/drive/My Drive /Colab Notebooks//CustomerChurn_dataset.csv'"
      ]
    },
    {
      "cell_type": "code",
      "execution_count": 6,
      "metadata": {
        "id": "smzMKTKyWOE4"
      },
      "outputs": [],
      "source": [
        "with open (path) as datas:\n",
        "  data = pd.read_csv(datas)"
      ]
    },
    {
      "cell_type": "code",
      "execution_count": 7,
      "metadata": {
        "colab": {
          "base_uri": "https://localhost:8080/",
          "height": 617
        },
        "id": "DruGoRXwWica",
        "outputId": "c629a501-3137-467d-f1af-7e17c6f08abe"
      },
      "outputs": [
        {
          "output_type": "execute_result",
          "data": {
            "text/plain": [
              "      customerID  gender  SeniorCitizen Partner Dependents  tenure  \\\n",
              "0     7590-VHVEG  Female              0     Yes         No       1   \n",
              "1     5575-GNVDE    Male              0      No         No      34   \n",
              "2     3668-QPYBK    Male              0      No         No       2   \n",
              "3     7795-CFOCW    Male              0      No         No      45   \n",
              "4     9237-HQITU  Female              0      No         No       2   \n",
              "...          ...     ...            ...     ...        ...     ...   \n",
              "7038  6840-RESVB    Male              0     Yes        Yes      24   \n",
              "7039  2234-XADUH  Female              0     Yes        Yes      72   \n",
              "7040  4801-JZAZL  Female              0     Yes        Yes      11   \n",
              "7041  8361-LTMKD    Male              1     Yes         No       4   \n",
              "7042  3186-AJIEK    Male              0      No         No      66   \n",
              "\n",
              "     PhoneService     MultipleLines InternetService OnlineSecurity  ...  \\\n",
              "0              No  No phone service             DSL             No  ...   \n",
              "1             Yes                No             DSL            Yes  ...   \n",
              "2             Yes                No             DSL            Yes  ...   \n",
              "3              No  No phone service             DSL            Yes  ...   \n",
              "4             Yes                No     Fiber optic             No  ...   \n",
              "...           ...               ...             ...            ...  ...   \n",
              "7038          Yes               Yes             DSL            Yes  ...   \n",
              "7039          Yes               Yes     Fiber optic             No  ...   \n",
              "7040           No  No phone service             DSL            Yes  ...   \n",
              "7041          Yes               Yes     Fiber optic             No  ...   \n",
              "7042          Yes                No     Fiber optic            Yes  ...   \n",
              "\n",
              "     DeviceProtection TechSupport StreamingTV StreamingMovies        Contract  \\\n",
              "0                  No          No          No              No  Month-to-month   \n",
              "1                 Yes          No          No              No        One year   \n",
              "2                  No          No          No              No  Month-to-month   \n",
              "3                 Yes         Yes          No              No        One year   \n",
              "4                  No          No          No              No  Month-to-month   \n",
              "...               ...         ...         ...             ...             ...   \n",
              "7038              Yes         Yes         Yes             Yes        One year   \n",
              "7039              Yes          No         Yes             Yes        One year   \n",
              "7040               No          No          No              No  Month-to-month   \n",
              "7041               No          No          No              No  Month-to-month   \n",
              "7042              Yes         Yes         Yes             Yes        Two year   \n",
              "\n",
              "     PaperlessBilling              PaymentMethod MonthlyCharges  TotalCharges  \\\n",
              "0                 Yes           Electronic check          29.85         29.85   \n",
              "1                  No               Mailed check          56.95        1889.5   \n",
              "2                 Yes               Mailed check          53.85        108.15   \n",
              "3                  No  Bank transfer (automatic)          42.30       1840.75   \n",
              "4                 Yes           Electronic check          70.70        151.65   \n",
              "...               ...                        ...            ...           ...   \n",
              "7038              Yes               Mailed check          84.80        1990.5   \n",
              "7039              Yes    Credit card (automatic)         103.20        7362.9   \n",
              "7040              Yes           Electronic check          29.60        346.45   \n",
              "7041              Yes               Mailed check          74.40         306.6   \n",
              "7042              Yes  Bank transfer (automatic)         105.65        6844.5   \n",
              "\n",
              "     Churn  \n",
              "0       No  \n",
              "1       No  \n",
              "2      Yes  \n",
              "3       No  \n",
              "4      Yes  \n",
              "...    ...  \n",
              "7038    No  \n",
              "7039    No  \n",
              "7040    No  \n",
              "7041   Yes  \n",
              "7042    No  \n",
              "\n",
              "[7043 rows x 21 columns]"
            ],
            "text/html": [
              "\n",
              "  <div id=\"df-61a5b84c-2b0f-4b88-8e41-832f144c72f0\" class=\"colab-df-container\">\n",
              "    <div>\n",
              "<style scoped>\n",
              "    .dataframe tbody tr th:only-of-type {\n",
              "        vertical-align: middle;\n",
              "    }\n",
              "\n",
              "    .dataframe tbody tr th {\n",
              "        vertical-align: top;\n",
              "    }\n",
              "\n",
              "    .dataframe thead th {\n",
              "        text-align: right;\n",
              "    }\n",
              "</style>\n",
              "<table border=\"1\" class=\"dataframe\">\n",
              "  <thead>\n",
              "    <tr style=\"text-align: right;\">\n",
              "      <th></th>\n",
              "      <th>customerID</th>\n",
              "      <th>gender</th>\n",
              "      <th>SeniorCitizen</th>\n",
              "      <th>Partner</th>\n",
              "      <th>Dependents</th>\n",
              "      <th>tenure</th>\n",
              "      <th>PhoneService</th>\n",
              "      <th>MultipleLines</th>\n",
              "      <th>InternetService</th>\n",
              "      <th>OnlineSecurity</th>\n",
              "      <th>...</th>\n",
              "      <th>DeviceProtection</th>\n",
              "      <th>TechSupport</th>\n",
              "      <th>StreamingTV</th>\n",
              "      <th>StreamingMovies</th>\n",
              "      <th>Contract</th>\n",
              "      <th>PaperlessBilling</th>\n",
              "      <th>PaymentMethod</th>\n",
              "      <th>MonthlyCharges</th>\n",
              "      <th>TotalCharges</th>\n",
              "      <th>Churn</th>\n",
              "    </tr>\n",
              "  </thead>\n",
              "  <tbody>\n",
              "    <tr>\n",
              "      <th>0</th>\n",
              "      <td>7590-VHVEG</td>\n",
              "      <td>Female</td>\n",
              "      <td>0</td>\n",
              "      <td>Yes</td>\n",
              "      <td>No</td>\n",
              "      <td>1</td>\n",
              "      <td>No</td>\n",
              "      <td>No phone service</td>\n",
              "      <td>DSL</td>\n",
              "      <td>No</td>\n",
              "      <td>...</td>\n",
              "      <td>No</td>\n",
              "      <td>No</td>\n",
              "      <td>No</td>\n",
              "      <td>No</td>\n",
              "      <td>Month-to-month</td>\n",
              "      <td>Yes</td>\n",
              "      <td>Electronic check</td>\n",
              "      <td>29.85</td>\n",
              "      <td>29.85</td>\n",
              "      <td>No</td>\n",
              "    </tr>\n",
              "    <tr>\n",
              "      <th>1</th>\n",
              "      <td>5575-GNVDE</td>\n",
              "      <td>Male</td>\n",
              "      <td>0</td>\n",
              "      <td>No</td>\n",
              "      <td>No</td>\n",
              "      <td>34</td>\n",
              "      <td>Yes</td>\n",
              "      <td>No</td>\n",
              "      <td>DSL</td>\n",
              "      <td>Yes</td>\n",
              "      <td>...</td>\n",
              "      <td>Yes</td>\n",
              "      <td>No</td>\n",
              "      <td>No</td>\n",
              "      <td>No</td>\n",
              "      <td>One year</td>\n",
              "      <td>No</td>\n",
              "      <td>Mailed check</td>\n",
              "      <td>56.95</td>\n",
              "      <td>1889.5</td>\n",
              "      <td>No</td>\n",
              "    </tr>\n",
              "    <tr>\n",
              "      <th>2</th>\n",
              "      <td>3668-QPYBK</td>\n",
              "      <td>Male</td>\n",
              "      <td>0</td>\n",
              "      <td>No</td>\n",
              "      <td>No</td>\n",
              "      <td>2</td>\n",
              "      <td>Yes</td>\n",
              "      <td>No</td>\n",
              "      <td>DSL</td>\n",
              "      <td>Yes</td>\n",
              "      <td>...</td>\n",
              "      <td>No</td>\n",
              "      <td>No</td>\n",
              "      <td>No</td>\n",
              "      <td>No</td>\n",
              "      <td>Month-to-month</td>\n",
              "      <td>Yes</td>\n",
              "      <td>Mailed check</td>\n",
              "      <td>53.85</td>\n",
              "      <td>108.15</td>\n",
              "      <td>Yes</td>\n",
              "    </tr>\n",
              "    <tr>\n",
              "      <th>3</th>\n",
              "      <td>7795-CFOCW</td>\n",
              "      <td>Male</td>\n",
              "      <td>0</td>\n",
              "      <td>No</td>\n",
              "      <td>No</td>\n",
              "      <td>45</td>\n",
              "      <td>No</td>\n",
              "      <td>No phone service</td>\n",
              "      <td>DSL</td>\n",
              "      <td>Yes</td>\n",
              "      <td>...</td>\n",
              "      <td>Yes</td>\n",
              "      <td>Yes</td>\n",
              "      <td>No</td>\n",
              "      <td>No</td>\n",
              "      <td>One year</td>\n",
              "      <td>No</td>\n",
              "      <td>Bank transfer (automatic)</td>\n",
              "      <td>42.30</td>\n",
              "      <td>1840.75</td>\n",
              "      <td>No</td>\n",
              "    </tr>\n",
              "    <tr>\n",
              "      <th>4</th>\n",
              "      <td>9237-HQITU</td>\n",
              "      <td>Female</td>\n",
              "      <td>0</td>\n",
              "      <td>No</td>\n",
              "      <td>No</td>\n",
              "      <td>2</td>\n",
              "      <td>Yes</td>\n",
              "      <td>No</td>\n",
              "      <td>Fiber optic</td>\n",
              "      <td>No</td>\n",
              "      <td>...</td>\n",
              "      <td>No</td>\n",
              "      <td>No</td>\n",
              "      <td>No</td>\n",
              "      <td>No</td>\n",
              "      <td>Month-to-month</td>\n",
              "      <td>Yes</td>\n",
              "      <td>Electronic check</td>\n",
              "      <td>70.70</td>\n",
              "      <td>151.65</td>\n",
              "      <td>Yes</td>\n",
              "    </tr>\n",
              "    <tr>\n",
              "      <th>...</th>\n",
              "      <td>...</td>\n",
              "      <td>...</td>\n",
              "      <td>...</td>\n",
              "      <td>...</td>\n",
              "      <td>...</td>\n",
              "      <td>...</td>\n",
              "      <td>...</td>\n",
              "      <td>...</td>\n",
              "      <td>...</td>\n",
              "      <td>...</td>\n",
              "      <td>...</td>\n",
              "      <td>...</td>\n",
              "      <td>...</td>\n",
              "      <td>...</td>\n",
              "      <td>...</td>\n",
              "      <td>...</td>\n",
              "      <td>...</td>\n",
              "      <td>...</td>\n",
              "      <td>...</td>\n",
              "      <td>...</td>\n",
              "      <td>...</td>\n",
              "    </tr>\n",
              "    <tr>\n",
              "      <th>7038</th>\n",
              "      <td>6840-RESVB</td>\n",
              "      <td>Male</td>\n",
              "      <td>0</td>\n",
              "      <td>Yes</td>\n",
              "      <td>Yes</td>\n",
              "      <td>24</td>\n",
              "      <td>Yes</td>\n",
              "      <td>Yes</td>\n",
              "      <td>DSL</td>\n",
              "      <td>Yes</td>\n",
              "      <td>...</td>\n",
              "      <td>Yes</td>\n",
              "      <td>Yes</td>\n",
              "      <td>Yes</td>\n",
              "      <td>Yes</td>\n",
              "      <td>One year</td>\n",
              "      <td>Yes</td>\n",
              "      <td>Mailed check</td>\n",
              "      <td>84.80</td>\n",
              "      <td>1990.5</td>\n",
              "      <td>No</td>\n",
              "    </tr>\n",
              "    <tr>\n",
              "      <th>7039</th>\n",
              "      <td>2234-XADUH</td>\n",
              "      <td>Female</td>\n",
              "      <td>0</td>\n",
              "      <td>Yes</td>\n",
              "      <td>Yes</td>\n",
              "      <td>72</td>\n",
              "      <td>Yes</td>\n",
              "      <td>Yes</td>\n",
              "      <td>Fiber optic</td>\n",
              "      <td>No</td>\n",
              "      <td>...</td>\n",
              "      <td>Yes</td>\n",
              "      <td>No</td>\n",
              "      <td>Yes</td>\n",
              "      <td>Yes</td>\n",
              "      <td>One year</td>\n",
              "      <td>Yes</td>\n",
              "      <td>Credit card (automatic)</td>\n",
              "      <td>103.20</td>\n",
              "      <td>7362.9</td>\n",
              "      <td>No</td>\n",
              "    </tr>\n",
              "    <tr>\n",
              "      <th>7040</th>\n",
              "      <td>4801-JZAZL</td>\n",
              "      <td>Female</td>\n",
              "      <td>0</td>\n",
              "      <td>Yes</td>\n",
              "      <td>Yes</td>\n",
              "      <td>11</td>\n",
              "      <td>No</td>\n",
              "      <td>No phone service</td>\n",
              "      <td>DSL</td>\n",
              "      <td>Yes</td>\n",
              "      <td>...</td>\n",
              "      <td>No</td>\n",
              "      <td>No</td>\n",
              "      <td>No</td>\n",
              "      <td>No</td>\n",
              "      <td>Month-to-month</td>\n",
              "      <td>Yes</td>\n",
              "      <td>Electronic check</td>\n",
              "      <td>29.60</td>\n",
              "      <td>346.45</td>\n",
              "      <td>No</td>\n",
              "    </tr>\n",
              "    <tr>\n",
              "      <th>7041</th>\n",
              "      <td>8361-LTMKD</td>\n",
              "      <td>Male</td>\n",
              "      <td>1</td>\n",
              "      <td>Yes</td>\n",
              "      <td>No</td>\n",
              "      <td>4</td>\n",
              "      <td>Yes</td>\n",
              "      <td>Yes</td>\n",
              "      <td>Fiber optic</td>\n",
              "      <td>No</td>\n",
              "      <td>...</td>\n",
              "      <td>No</td>\n",
              "      <td>No</td>\n",
              "      <td>No</td>\n",
              "      <td>No</td>\n",
              "      <td>Month-to-month</td>\n",
              "      <td>Yes</td>\n",
              "      <td>Mailed check</td>\n",
              "      <td>74.40</td>\n",
              "      <td>306.6</td>\n",
              "      <td>Yes</td>\n",
              "    </tr>\n",
              "    <tr>\n",
              "      <th>7042</th>\n",
              "      <td>3186-AJIEK</td>\n",
              "      <td>Male</td>\n",
              "      <td>0</td>\n",
              "      <td>No</td>\n",
              "      <td>No</td>\n",
              "      <td>66</td>\n",
              "      <td>Yes</td>\n",
              "      <td>No</td>\n",
              "      <td>Fiber optic</td>\n",
              "      <td>Yes</td>\n",
              "      <td>...</td>\n",
              "      <td>Yes</td>\n",
              "      <td>Yes</td>\n",
              "      <td>Yes</td>\n",
              "      <td>Yes</td>\n",
              "      <td>Two year</td>\n",
              "      <td>Yes</td>\n",
              "      <td>Bank transfer (automatic)</td>\n",
              "      <td>105.65</td>\n",
              "      <td>6844.5</td>\n",
              "      <td>No</td>\n",
              "    </tr>\n",
              "  </tbody>\n",
              "</table>\n",
              "<p>7043 rows × 21 columns</p>\n",
              "</div>\n",
              "    <div class=\"colab-df-buttons\">\n",
              "\n",
              "  <div class=\"colab-df-container\">\n",
              "    <button class=\"colab-df-convert\" onclick=\"convertToInteractive('df-61a5b84c-2b0f-4b88-8e41-832f144c72f0')\"\n",
              "            title=\"Convert this dataframe to an interactive table.\"\n",
              "            style=\"display:none;\">\n",
              "\n",
              "  <svg xmlns=\"http://www.w3.org/2000/svg\" height=\"24px\" viewBox=\"0 -960 960 960\">\n",
              "    <path d=\"M120-120v-720h720v720H120Zm60-500h600v-160H180v160Zm220 220h160v-160H400v160Zm0 220h160v-160H400v160ZM180-400h160v-160H180v160Zm440 0h160v-160H620v160ZM180-180h160v-160H180v160Zm440 0h160v-160H620v160Z\"/>\n",
              "  </svg>\n",
              "    </button>\n",
              "\n",
              "  <style>\n",
              "    .colab-df-container {\n",
              "      display:flex;\n",
              "      gap: 12px;\n",
              "    }\n",
              "\n",
              "    .colab-df-convert {\n",
              "      background-color: #E8F0FE;\n",
              "      border: none;\n",
              "      border-radius: 50%;\n",
              "      cursor: pointer;\n",
              "      display: none;\n",
              "      fill: #1967D2;\n",
              "      height: 32px;\n",
              "      padding: 0 0 0 0;\n",
              "      width: 32px;\n",
              "    }\n",
              "\n",
              "    .colab-df-convert:hover {\n",
              "      background-color: #E2EBFA;\n",
              "      box-shadow: 0px 1px 2px rgba(60, 64, 67, 0.3), 0px 1px 3px 1px rgba(60, 64, 67, 0.15);\n",
              "      fill: #174EA6;\n",
              "    }\n",
              "\n",
              "    .colab-df-buttons div {\n",
              "      margin-bottom: 4px;\n",
              "    }\n",
              "\n",
              "    [theme=dark] .colab-df-convert {\n",
              "      background-color: #3B4455;\n",
              "      fill: #D2E3FC;\n",
              "    }\n",
              "\n",
              "    [theme=dark] .colab-df-convert:hover {\n",
              "      background-color: #434B5C;\n",
              "      box-shadow: 0px 1px 3px 1px rgba(0, 0, 0, 0.15);\n",
              "      filter: drop-shadow(0px 1px 2px rgba(0, 0, 0, 0.3));\n",
              "      fill: #FFFFFF;\n",
              "    }\n",
              "  </style>\n",
              "\n",
              "    <script>\n",
              "      const buttonEl =\n",
              "        document.querySelector('#df-61a5b84c-2b0f-4b88-8e41-832f144c72f0 button.colab-df-convert');\n",
              "      buttonEl.style.display =\n",
              "        google.colab.kernel.accessAllowed ? 'block' : 'none';\n",
              "\n",
              "      async function convertToInteractive(key) {\n",
              "        const element = document.querySelector('#df-61a5b84c-2b0f-4b88-8e41-832f144c72f0');\n",
              "        const dataTable =\n",
              "          await google.colab.kernel.invokeFunction('convertToInteractive',\n",
              "                                                    [key], {});\n",
              "        if (!dataTable) return;\n",
              "\n",
              "        const docLinkHtml = 'Like what you see? Visit the ' +\n",
              "          '<a target=\"_blank\" href=https://colab.research.google.com/notebooks/data_table.ipynb>data table notebook</a>'\n",
              "          + ' to learn more about interactive tables.';\n",
              "        element.innerHTML = '';\n",
              "        dataTable['output_type'] = 'display_data';\n",
              "        await google.colab.output.renderOutput(dataTable, element);\n",
              "        const docLink = document.createElement('div');\n",
              "        docLink.innerHTML = docLinkHtml;\n",
              "        element.appendChild(docLink);\n",
              "      }\n",
              "    </script>\n",
              "  </div>\n",
              "\n",
              "\n",
              "<div id=\"df-6856fa3b-818c-4840-b410-5c299ee25034\">\n",
              "  <button class=\"colab-df-quickchart\" onclick=\"quickchart('df-6856fa3b-818c-4840-b410-5c299ee25034')\"\n",
              "            title=\"Suggest charts\"\n",
              "            style=\"display:none;\">\n",
              "\n",
              "<svg xmlns=\"http://www.w3.org/2000/svg\" height=\"24px\"viewBox=\"0 0 24 24\"\n",
              "     width=\"24px\">\n",
              "    <g>\n",
              "        <path d=\"M19 3H5c-1.1 0-2 .9-2 2v14c0 1.1.9 2 2 2h14c1.1 0 2-.9 2-2V5c0-1.1-.9-2-2-2zM9 17H7v-7h2v7zm4 0h-2V7h2v10zm4 0h-2v-4h2v4z\"/>\n",
              "    </g>\n",
              "</svg>\n",
              "  </button>\n",
              "\n",
              "<style>\n",
              "  .colab-df-quickchart {\n",
              "      --bg-color: #E8F0FE;\n",
              "      --fill-color: #1967D2;\n",
              "      --hover-bg-color: #E2EBFA;\n",
              "      --hover-fill-color: #174EA6;\n",
              "      --disabled-fill-color: #AAA;\n",
              "      --disabled-bg-color: #DDD;\n",
              "  }\n",
              "\n",
              "  [theme=dark] .colab-df-quickchart {\n",
              "      --bg-color: #3B4455;\n",
              "      --fill-color: #D2E3FC;\n",
              "      --hover-bg-color: #434B5C;\n",
              "      --hover-fill-color: #FFFFFF;\n",
              "      --disabled-bg-color: #3B4455;\n",
              "      --disabled-fill-color: #666;\n",
              "  }\n",
              "\n",
              "  .colab-df-quickchart {\n",
              "    background-color: var(--bg-color);\n",
              "    border: none;\n",
              "    border-radius: 50%;\n",
              "    cursor: pointer;\n",
              "    display: none;\n",
              "    fill: var(--fill-color);\n",
              "    height: 32px;\n",
              "    padding: 0;\n",
              "    width: 32px;\n",
              "  }\n",
              "\n",
              "  .colab-df-quickchart:hover {\n",
              "    background-color: var(--hover-bg-color);\n",
              "    box-shadow: 0 1px 2px rgba(60, 64, 67, 0.3), 0 1px 3px 1px rgba(60, 64, 67, 0.15);\n",
              "    fill: var(--button-hover-fill-color);\n",
              "  }\n",
              "\n",
              "  .colab-df-quickchart-complete:disabled,\n",
              "  .colab-df-quickchart-complete:disabled:hover {\n",
              "    background-color: var(--disabled-bg-color);\n",
              "    fill: var(--disabled-fill-color);\n",
              "    box-shadow: none;\n",
              "  }\n",
              "\n",
              "  .colab-df-spinner {\n",
              "    border: 2px solid var(--fill-color);\n",
              "    border-color: transparent;\n",
              "    border-bottom-color: var(--fill-color);\n",
              "    animation:\n",
              "      spin 1s steps(1) infinite;\n",
              "  }\n",
              "\n",
              "  @keyframes spin {\n",
              "    0% {\n",
              "      border-color: transparent;\n",
              "      border-bottom-color: var(--fill-color);\n",
              "      border-left-color: var(--fill-color);\n",
              "    }\n",
              "    20% {\n",
              "      border-color: transparent;\n",
              "      border-left-color: var(--fill-color);\n",
              "      border-top-color: var(--fill-color);\n",
              "    }\n",
              "    30% {\n",
              "      border-color: transparent;\n",
              "      border-left-color: var(--fill-color);\n",
              "      border-top-color: var(--fill-color);\n",
              "      border-right-color: var(--fill-color);\n",
              "    }\n",
              "    40% {\n",
              "      border-color: transparent;\n",
              "      border-right-color: var(--fill-color);\n",
              "      border-top-color: var(--fill-color);\n",
              "    }\n",
              "    60% {\n",
              "      border-color: transparent;\n",
              "      border-right-color: var(--fill-color);\n",
              "    }\n",
              "    80% {\n",
              "      border-color: transparent;\n",
              "      border-right-color: var(--fill-color);\n",
              "      border-bottom-color: var(--fill-color);\n",
              "    }\n",
              "    90% {\n",
              "      border-color: transparent;\n",
              "      border-bottom-color: var(--fill-color);\n",
              "    }\n",
              "  }\n",
              "</style>\n",
              "\n",
              "  <script>\n",
              "    async function quickchart(key) {\n",
              "      const quickchartButtonEl =\n",
              "        document.querySelector('#' + key + ' button');\n",
              "      quickchartButtonEl.disabled = true;  // To prevent multiple clicks.\n",
              "      quickchartButtonEl.classList.add('colab-df-spinner');\n",
              "      try {\n",
              "        const charts = await google.colab.kernel.invokeFunction(\n",
              "            'suggestCharts', [key], {});\n",
              "      } catch (error) {\n",
              "        console.error('Error during call to suggestCharts:', error);\n",
              "      }\n",
              "      quickchartButtonEl.classList.remove('colab-df-spinner');\n",
              "      quickchartButtonEl.classList.add('colab-df-quickchart-complete');\n",
              "    }\n",
              "    (() => {\n",
              "      let quickchartButtonEl =\n",
              "        document.querySelector('#df-6856fa3b-818c-4840-b410-5c299ee25034 button');\n",
              "      quickchartButtonEl.style.display =\n",
              "        google.colab.kernel.accessAllowed ? 'block' : 'none';\n",
              "    })();\n",
              "  </script>\n",
              "</div>\n",
              "    </div>\n",
              "  </div>\n"
            ]
          },
          "metadata": {},
          "execution_count": 7
        }
      ],
      "source": [
        "\n",
        "data"
      ]
    },
    {
      "cell_type": "code",
      "execution_count": 8,
      "metadata": {
        "id": "_4MRXjioaS7P"
      },
      "outputs": [],
      "source": [
        "data.replace(' ',np.nan,inplace = True)"
      ]
    },
    {
      "cell_type": "code",
      "execution_count": 9,
      "metadata": {
        "id": "3focWBkEghf0"
      },
      "outputs": [],
      "source": [
        "data.dropna(inplace = True)"
      ]
    },
    {
      "cell_type": "code",
      "execution_count": 10,
      "metadata": {
        "colab": {
          "base_uri": "https://localhost:8080/"
        },
        "id": "vCWUU4GNgkyP",
        "outputId": "97eb9979-e5e0-4ada-9a4e-6fcd51ba6cc8"
      },
      "outputs": [
        {
          "output_type": "execute_result",
          "data": {
            "text/plain": [
              "customerID           object\n",
              "gender               object\n",
              "SeniorCitizen         int64\n",
              "Partner              object\n",
              "Dependents           object\n",
              "tenure                int64\n",
              "PhoneService         object\n",
              "MultipleLines        object\n",
              "InternetService      object\n",
              "OnlineSecurity       object\n",
              "OnlineBackup         object\n",
              "DeviceProtection     object\n",
              "TechSupport          object\n",
              "StreamingTV          object\n",
              "StreamingMovies      object\n",
              "Contract             object\n",
              "PaperlessBilling     object\n",
              "PaymentMethod        object\n",
              "MonthlyCharges      float64\n",
              "TotalCharges         object\n",
              "Churn                object\n",
              "dtype: object"
            ]
          },
          "metadata": {},
          "execution_count": 10
        }
      ],
      "source": [
        "\n",
        "data.dtypes"
      ]
    },
    {
      "cell_type": "code",
      "execution_count": 11,
      "metadata": {
        "id": "pBYI2XcHgp8K"
      },
      "outputs": [],
      "source": [
        "data['TotalCharges'] =pd.to_numeric(data['TotalCharges'],errors='coerce')\n",
        "data.drop(columns='customerID', inplace = True)"
      ]
    },
    {
      "cell_type": "code",
      "execution_count": 12,
      "metadata": {
        "id": "75p1g003h1Ss"
      },
      "outputs": [],
      "source": [
        "dependency_variables =[]\n",
        "for i in data.columns:\n",
        "  if data[i].dtype == 'O':\n",
        "    dependency_variables.append(i)\n"
      ]
    },
    {
      "cell_type": "code",
      "execution_count": 13,
      "metadata": {
        "colab": {
          "base_uri": "https://localhost:8080/"
        },
        "id": "OYAYY2oM-97F",
        "outputId": "11619320-9036-4486-ce1d-5a4f6d620988"
      },
      "outputs": [
        {
          "output_type": "execute_result",
          "data": {
            "text/plain": [
              "['gender',\n",
              " 'Partner',\n",
              " 'Dependents',\n",
              " 'PhoneService',\n",
              " 'MultipleLines',\n",
              " 'InternetService',\n",
              " 'OnlineSecurity',\n",
              " 'OnlineBackup',\n",
              " 'DeviceProtection',\n",
              " 'TechSupport',\n",
              " 'StreamingTV',\n",
              " 'StreamingMovies',\n",
              " 'Contract',\n",
              " 'PaperlessBilling',\n",
              " 'PaymentMethod',\n",
              " 'Churn']"
            ]
          },
          "metadata": {},
          "execution_count": 13
        }
      ],
      "source": [
        "dependency_variables"
      ]
    },
    {
      "cell_type": "markdown",
      "metadata": {
        "id": "JFVDxtdRA2Kg"
      },
      "source": [
        "EXPLORATORY DATA ANALYSIS"
      ]
    },
    {
      "cell_type": "code",
      "execution_count": 14,
      "metadata": {
        "colab": {
          "base_uri": "https://localhost:8080/",
          "height": 1000
        },
        "id": "rXgK6ozX_zTR",
        "outputId": "3e17a92d-72fe-4b63-d8a9-f6e1fe786152"
      },
      "outputs": [
        {
          "output_type": "display_data",
          "data": {
            "text/plain": [
              "<Figure size 1600x800 with 1 Axes>"
            ],
            "image/png": "[encoded data removed]"
          },
          "metadata": {}
        },
        {
          "output_type": "display_data",
          "data": {
            "text/plain": [
              "<Figure size 1600x800 with 1 Axes>"
            ],
            "image/png": "[encoded data removed]"
          },
          "metadata": {}
        },
        {
          "output_type": "display_data",
          "data": {
            "text/plain": [
              "<Figure size 1600x800 with 1 Axes>"
            ],
            "image/png": "[encoded data removed]"
          },
          "metadata": {}
        },
        {
          "output_type": "display_data",
          "data": {
            "text/plain": [
              "<Figure size 1600x800 with 1 Axes>"
            ],
            "image/png": "[encoded data removed]"
          },
          "metadata": {}
        },
        {
          "output_type": "display_data",
          "data": {
            "text/plain": [
              "<Figure size 1600x800 with 1 Axes>"
            ],
            "image/png": "[encoded data removed]"
          },
          "metadata": {}
        },
        {
          "output_type": "display_data",
          "data": {
            "text/plain": [
              "<Figure size 1600x800 with 1 Axes>"
            ],
            "image/png": "[encoded data removed]"
          },
          "metadata": {}
        },
        {
          "output_type": "display_data",
          "data": {
            "text/plain": [
              "<Figure size 1600x800 with 1 Axes>"
            ],
            "image/png": "[encoded data removed]"
          },
          "metadata": {}
        },
        {
          "output_type": "display_data",
          "data": {
            "text/plain": [
              "<Figure size 1600x800 with 1 Axes>"
            ],
            "image/png": "[encoded data removed]"
          },
          "metadata": {}
        },
        {
          "output_type": "display_data",
          "data": {
            "text/plain": [
              "<Figure size 1600x800 with 1 Axes>"
            ],
            "image/png": "[encoded data removed]"
          },
          "metadata": {}
        },
        {
          "output_type": "display_data",
          "data": {
            "text/plain": [
              "<Figure size 1600x800 with 1 Axes>"
            ],
            "image/png": "[encoded data removed]"
          },
          "metadata": {}
        },
        {
          "output_type": "display_data",
          "data": {
            "text/plain": [
              "<Figure size 1600x800 with 1 Axes>"
            ],
            "image/png": "[encoded data removed]"
          },
          "metadata": {}
        },
        {
          "output_type": "display_data",
          "data": {
            "text/plain": [
              "<Figure size 1600x800 with 1 Axes>"
            ],
            "image/png": "[encoded data removed]"
          },
          "metadata": {}
        },
        {
          "output_type": "display_data",
          "data": {
            "text/plain": [
              "<Figure size 1600x800 with 1 Axes>"
            ],
            "image/png": "[encoded data removed]"
          },
          "metadata": {}
        },
        {
          "output_type": "display_data",
          "data": {
            "text/plain": [
              "<Figure size 1600x800 with 1 Axes>"
            ],
            "image/png": "[encoded data removed]"
          },
          "metadata": {}
        },
        {
          "output_type": "display_data",
          "data": {
            "text/plain": [
              "<Figure size 1600x800 with 1 Axes>"
            ],
            "image/png": "[encoded data removed]"
          },
          "metadata": {}
        },
        {
          "output_type": "display_data",
          "data": {
            "text/plain": [
              "<Figure size 1600x800 with 1 Axes>"
            ],
            "image/png": "[encoded data removed]"
          },
          "metadata": {}
        }
      ],
      "source": [
        "def plotting (column):\n",
        "  fig,subplots = plt.subplots(1,1,figsize = (16,8))\n",
        "  sb.countplot(x = column,hue = 'Churn', data = data)\n",
        "\n",
        "\n",
        "for i in range(len(dependency_variables)):\n",
        "    plotting(dependency_variables[i])"
      ]
    },
    {
      "cell_type": "markdown",
      "metadata": {
        "id": "JdfQkgQ8ozrb"
      },
      "source": [
        "**encoding**"
      ]
    },
    {
      "cell_type": "code",
      "execution_count": 15,
      "metadata": {
        "colab": {
          "base_uri": "https://localhost:8080/"
        },
        "id": "OHKKvzSkCEsU",
        "outputId": "9f7ad83f-1d57-4ed2-d834-755b42701064"
      },
      "outputs": [
        {
          "output_type": "stream",
          "name": "stdout",
          "text": [
            "gender\n",
            "Partner\n",
            "Dependents\n",
            "PhoneService\n",
            "MultipleLines\n",
            "InternetService\n",
            "OnlineSecurity\n",
            "OnlineBackup\n",
            "DeviceProtection\n",
            "TechSupport\n",
            "StreamingTV\n",
            "StreamingMovies\n",
            "Contract\n",
            "PaperlessBilling\n",
            "PaymentMethod\n",
            "Churn\n"
          ]
        }
      ],
      "source": [
        "label_encoder = preprocessing.LabelEncoder()\n",
        "for i in dependency_variables:\n",
        "  data[i]= label_encoder.fit_transform(data[i])\n",
        "  data[i].unique()\n",
        "  print(i)"
      ]
    },
    {
      "cell_type": "code",
      "execution_count": 16,
      "metadata": {
        "id": "0zpAwmlSF4wT"
      },
      "outputs": [],
      "source": [
        "data = pd.DataFrame(data)"
      ]
    },
    {
      "cell_type": "code",
      "execution_count": 17,
      "metadata": {
        "id": "XEsrhDvKDVSS"
      },
      "outputs": [],
      "source": [
        "#spliting data into dependent and independent variables\n",
        "y = data['Churn']\n",
        "X = data.drop('Churn',axis = 1)"
      ]
    },
    {
      "cell_type": "code",
      "execution_count": 18,
      "metadata": {
        "id": "zCBEfaKfDxWs"
      },
      "outputs": [],
      "source": [
        "sc = StandardScaler()\n",
        "X = sc.fit_transform(X)\n",
        "X = pd.DataFrame(X,columns =  data.drop('Churn',axis = 1).columns)\n"
      ]
    },
    {
      "cell_type": "code",
      "execution_count": 19,
      "metadata": {
        "id": "mpSN1UMAD_d_"
      },
      "outputs": [],
      "source": [
        "#Splitting to training and testing\n",
        "X_train, X_test, y_train, y_test = train_test_split(X, y, test_size=0.2, random_state=42)"
      ]
    },
    {
      "cell_type": "code",
      "execution_count": 20,
      "metadata": {
        "colab": {
          "base_uri": "https://localhost:8080/",
          "height": 116
        },
        "id": "16Q2d_V9EEbm",
        "outputId": "2a07a9c7-00af-430c-ba2c-88a3b98e3ab6"
      },
      "outputs": [
        {
          "output_type": "execute_result",
          "data": {
            "text/plain": [
              "SelectFromModel(estimator=RandomForestClassifier())"
            ],
            "text/html": [
              "<style>#sk-container-id-1 {color: black;background-color: white;}#sk-container-id-1 pre{padding: 0;}#sk-container-id-1 div.sk-toggleable {background-color: white;}#sk-container-id-1 label.sk-toggleable__label {cursor: pointer;display: block;width: 100%;margin-bottom: 0;padding: 0.3em;box-sizing: border-box;text-align: center;}#sk-container-id-1 label.sk-toggleable__label-arrow:before {content: \"▸\";float: left;margin-right: 0.25em;color: #696969;}#sk-container-id-1 label.sk-toggleable__label-arrow:hover:before {color: black;}#sk-container-id-1 div.sk-estimator:hover label.sk-toggleable__label-arrow:before {color: black;}#sk-container-id-1 div.sk-toggleable__content {max-height: 0;max-width: 0;overflow: hidden;text-align: left;background-color: #f0f8ff;}#sk-container-id-1 div.sk-toggleable__content pre {margin: 0.2em;color: black;border-radius: 0.25em;background-color: #f0f8ff;}#sk-container-id-1 input.sk-toggleable__control:checked~div.sk-toggleable__content {max-height: 200px;max-width: 100%;overflow: auto;}#sk-container-id-1 input.sk-toggleable__control:checked~label.sk-toggleable__label-arrow:before {content: \"▾\";}#sk-container-id-1 div.sk-estimator input.sk-toggleable__control:checked~label.sk-toggleable__label {background-color: #d4ebff;}#sk-container-id-1 div.sk-label input.sk-toggleable__control:checked~label.sk-toggleable__label {background-color: #d4ebff;}#sk-container-id-1 input.sk-hidden--visually {border: 0;clip: rect(1px 1px 1px 1px);clip: rect(1px, 1px, 1px, 1px);height: 1px;margin: -1px;overflow: hidden;padding: 0;position: absolute;width: 1px;}#sk-container-id-1 div.sk-estimator {font-family: monospace;background-color: #f0f8ff;border: 1px dotted black;border-radius: 0.25em;box-sizing: border-box;margin-bottom: 0.5em;}#sk-container-id-1 div.sk-estimator:hover {background-color: #d4ebff;}#sk-container-id-1 div.sk-parallel-item::after {content: \"\";width: 100%;border-bottom: 1px solid gray;flex-grow: 1;}#sk-container-id-1 div.sk-label:hover label.sk-toggleable__label {background-color: #d4ebff;}#sk-container-id-1 div.sk-serial::before {content: \"\";position: absolute;border-left: 1px solid gray;box-sizing: border-box;top: 0;bottom: 0;left: 50%;z-index: 0;}#sk-container-id-1 div.sk-serial {display: flex;flex-direction: column;align-items: center;background-color: white;padding-right: 0.2em;padding-left: 0.2em;position: relative;}#sk-container-id-1 div.sk-item {position: relative;z-index: 1;}#sk-container-id-1 div.sk-parallel {display: flex;align-items: stretch;justify-content: center;background-color: white;position: relative;}#sk-container-id-1 div.sk-item::before, #sk-container-id-1 div.sk-parallel-item::before {content: \"\";position: absolute;border-left: 1px solid gray;box-sizing: border-box;top: 0;bottom: 0;left: 50%;z-index: -1;}#sk-container-id-1 div.sk-parallel-item {display: flex;flex-direction: column;z-index: 1;position: relative;background-color: white;}#sk-container-id-1 div.sk-parallel-item:first-child::after {align-self: flex-end;width: 50%;}#sk-container-id-1 div.sk-parallel-item:last-child::after {align-self: flex-start;width: 50%;}#sk-container-id-1 div.sk-parallel-item:only-child::after {width: 0;}#sk-container-id-1 div.sk-dashed-wrapped {border: 1px dashed gray;margin: 0 0.4em 0.5em 0.4em;box-sizing: border-box;padding-bottom: 0.4em;background-color: white;}#sk-container-id-1 div.sk-label label {font-family: monospace;font-weight: bold;display: inline-block;line-height: 1.2em;}#sk-container-id-1 div.sk-label-container {text-align: center;}#sk-container-id-1 div.sk-container {/* jupyter's `normalize.less` sets `[hidden] { display: none; }` but bootstrap.min.css set `[hidden] { display: none !important; }` so we also need the `!important` here to be able to override the default hidden behavior on the sphinx rendered scikit-learn.org. See: https://github.com/scikit-learn/scikit-learn/issues/21755 */display: inline-block !important;position: relative;}#sk-container-id-1 div.sk-text-repr-fallback {display: none;}</style><div id=\"sk-container-id-1\" class=\"sk-top-container\"><div class=\"sk-text-repr-fallback\"><pre>SelectFromModel(estimator=RandomForestClassifier())</pre><b>In a Jupyter environment, please rerun this cell to show the HTML representation or trust the notebook. <br />On GitHub, the HTML representation is unable to render, please try loading this page with nbviewer.org.</b></div><div class=\"sk-container\" hidden><div class=\"sk-item sk-dashed-wrapped\"><div class=\"sk-label-container\"><div class=\"sk-label sk-toggleable\"><input class=\"sk-toggleable__control sk-hidden--visually\" id=\"sk-estimator-id-1\" type=\"checkbox\" ><label for=\"sk-estimator-id-1\" class=\"sk-toggleable__label sk-toggleable__label-arrow\">SelectFromModel</label><div class=\"sk-toggleable__content\"><pre>SelectFromModel(estimator=RandomForestClassifier())</pre></div></div></div><div class=\"sk-parallel\"><div class=\"sk-parallel-item\"><div class=\"sk-item\"><div class=\"sk-label-container\"><div class=\"sk-label sk-toggleable\"><input class=\"sk-toggleable__control sk-hidden--visually\" id=\"sk-estimator-id-2\" type=\"checkbox\" ><label for=\"sk-estimator-id-2\" class=\"sk-toggleable__label sk-toggleable__label-arrow\">estimator: RandomForestClassifier</label><div class=\"sk-toggleable__content\"><pre>RandomForestClassifier()</pre></div></div></div><div class=\"sk-serial\"><div class=\"sk-item\"><div class=\"sk-estimator sk-toggleable\"><input class=\"sk-toggleable__control sk-hidden--visually\" id=\"sk-estimator-id-3\" type=\"checkbox\" ><label for=\"sk-estimator-id-3\" class=\"sk-toggleable__label sk-toggleable__label-arrow\">RandomForestClassifier</label><div class=\"sk-toggleable__content\"><pre>RandomForestClassifier()</pre></div></div></div></div></div></div></div></div></div></div>"
            ]
          },
          "metadata": {},
          "execution_count": 20
        }
      ],
      "source": [
        "#model fitting and feature selection\n",
        "selection = SelectFromModel(RandomForestClassifier(n_estimators = 100))\n",
        "selection.fit(X_train, y_train)"
      ]
    },
    {
      "cell_type": "code",
      "execution_count": 21,
      "metadata": {
        "colab": {
          "base_uri": "https://localhost:8080/"
        },
        "id": "dwdmOgXVEKTL",
        "outputId": "94a2c99a-749b-4c12-be49-e93b66c19c84"
      },
      "outputs": [
        {
          "output_type": "execute_result",
          "data": {
            "text/plain": [
              "array([False, False, False, False,  True, False, False, False, False,\n",
              "       False, False, False, False, False,  True, False, False,  True,\n",
              "        True])"
            ]
          },
          "metadata": {},
          "execution_count": 21
        }
      ],
      "source": [
        "#get important features\n",
        "selection.get_support()"
      ]
    },
    {
      "cell_type": "code",
      "execution_count": 22,
      "metadata": {
        "colab": {
          "base_uri": "https://localhost:8080/"
        },
        "id": "VhskUkRCFr6v",
        "outputId": "2b686b87-670e-4cdc-dc22-a75296df4a00"
      },
      "outputs": [
        {
          "output_type": "execute_result",
          "data": {
            "text/plain": [
              "4"
            ]
          },
          "metadata": {},
          "execution_count": 22
        }
      ],
      "source": [
        "features_selected= X_train.columns[(selection.get_support())]\n",
        "len(features_selected)"
      ]
    },
    {
      "cell_type": "code",
      "execution_count": 23,
      "metadata": {
        "colab": {
          "base_uri": "https://localhost:8080/"
        },
        "id": "-NgjlFeRGMYB",
        "outputId": "79c000fa-65a9-40a0-b089-01994fb99107"
      },
      "outputs": [
        {
          "output_type": "execute_result",
          "data": {
            "text/plain": [
              "Index(['tenure', 'Contract', 'MonthlyCharges', 'TotalCharges'], dtype='object')"
            ]
          },
          "metadata": {},
          "execution_count": 23
        }
      ],
      "source": [
        "features_selected"
      ]
    },
    {
      "cell_type": "markdown",
      "metadata": {
        "id": "abJIaGR5Goni"
      },
      "source": [
        "train the neural network"
      ]
    },
    {
      "cell_type": "code",
      "execution_count": 24,
      "metadata": {
        "id": "0fasVdYSQ7WP"
      },
      "outputs": [],
      "source": [
        "columnstoDrop = ['Partner','Dependents','PhoneService','MultipleLines','DeviceProtection',\n",
        "'StreamingTV','StreamingMovies', 'PaperlessBilling']\n",
        "X.drop(columns=columnstoDrop, inplace = True)\n"
      ]
    },
    {
      "cell_type": "code",
      "execution_count": 25,
      "metadata": {
        "id": "Kh9dqhQqGpa3"
      },
      "outputs": [],
      "source": [
        "X_train, X_test, y_train, y_test = train_test_split(X, y, test_size=0.2, random_state=42)"
      ]
    },
    {
      "cell_type": "code",
      "execution_count": 26,
      "metadata": {
        "colab": {
          "base_uri": "https://localhost:8080/"
        },
        "id": "SSNkbVzXTaSV",
        "outputId": "492903d8-f523-4486-b2b0-b20b73440633"
      },
      "outputs": [
        {
          "output_type": "execute_result",
          "data": {
            "text/plain": [
              "Index(['gender', 'SeniorCitizen', 'tenure', 'InternetService',\n",
              "       'OnlineSecurity', 'OnlineBackup', 'TechSupport', 'Contract',\n",
              "       'PaymentMethod', 'MonthlyCharges', 'TotalCharges'],\n",
              "      dtype='object')"
            ]
          },
          "metadata": {},
          "execution_count": 26
        }
      ],
      "source": [
        "X.columns"
      ]
    },
    {
      "cell_type": "code",
      "execution_count": 27,
      "metadata": {
        "id": "Qzeh3XasGpdv"
      },
      "outputs": [],
      "source": [
        "inputLayer = Input(shape=(X_train.shape[1],))\n",
        "hiddenLayer_1 = Dense(32, activation='relu')(inputLayer)\n",
        "hiddenLayer_2 = Dense(24, activation='relu')(hiddenLayer_1)\n",
        "outputLayer = Dense(1, activation='sigmoid')(hiddenLayer_2)\n"
      ]
    },
    {
      "cell_type": "code",
      "execution_count": 47,
      "metadata": {
        "colab": {
          "base_uri": "https://localhost:8080/"
        },
        "id": "StJTv0QiGphP",
        "outputId": "ecbf6fe5-0e24-4c62-ec2e-d859cd7810ff"
      },
      "outputs": [
        {
          "output_type": "stream",
          "name": "stdout",
          "text": [
            "Epoch 1/100\n",
            "176/176 [==============================] - 2s 4ms/step - loss: 0.4045 - accuracy: 0.8064 - val_loss: 0.4408 - val_accuracy: 0.7903\n",
            "Epoch 2/100\n",
            "176/176 [==============================] - 0s 3ms/step - loss: 0.4043 - accuracy: 0.8050 - val_loss: 0.4407 - val_accuracy: 0.7903\n",
            "Epoch 3/100\n",
            "176/176 [==============================] - 1s 6ms/step - loss: 0.4042 - accuracy: 0.8069 - val_loss: 0.4407 - val_accuracy: 0.7861\n",
            "Epoch 4/100\n",
            "176/176 [==============================] - 1s 3ms/step - loss: 0.4040 - accuracy: 0.8062 - val_loss: 0.4405 - val_accuracy: 0.7889\n",
            "Epoch 5/100\n",
            "176/176 [==============================] - 1s 6ms/step - loss: 0.4040 - accuracy: 0.8069 - val_loss: 0.4407 - val_accuracy: 0.7896\n",
            "Epoch 6/100\n",
            "176/176 [==============================] - 0s 3ms/step - loss: 0.4039 - accuracy: 0.8059 - val_loss: 0.4407 - val_accuracy: 0.7896\n",
            "Epoch 7/100\n",
            "176/176 [==============================] - 0s 3ms/step - loss: 0.4037 - accuracy: 0.8073 - val_loss: 0.4407 - val_accuracy: 0.7854\n",
            "Epoch 8/100\n",
            "176/176 [==============================] - 0s 3ms/step - loss: 0.4036 - accuracy: 0.8071 - val_loss: 0.4408 - val_accuracy: 0.7889\n",
            "Epoch 9/100\n",
            "176/176 [==============================] - 1s 3ms/step - loss: 0.4034 - accuracy: 0.8075 - val_loss: 0.4407 - val_accuracy: 0.7846\n",
            "Epoch 10/100\n",
            "176/176 [==============================] - 1s 4ms/step - loss: 0.4034 - accuracy: 0.8064 - val_loss: 0.4410 - val_accuracy: 0.7839\n",
            "Epoch 11/100\n",
            "176/176 [==============================] - 1s 4ms/step - loss: 0.4033 - accuracy: 0.8076 - val_loss: 0.4408 - val_accuracy: 0.7910\n",
            "Epoch 12/100\n",
            "176/176 [==============================] - 1s 4ms/step - loss: 0.4032 - accuracy: 0.8075 - val_loss: 0.4408 - val_accuracy: 0.7889\n",
            "Epoch 13/100\n",
            "176/176 [==============================] - 1s 4ms/step - loss: 0.4031 - accuracy: 0.8075 - val_loss: 0.4409 - val_accuracy: 0.7882\n",
            "Epoch 14/100\n",
            "176/176 [==============================] - 1s 4ms/step - loss: 0.4030 - accuracy: 0.8071 - val_loss: 0.4408 - val_accuracy: 0.7861\n",
            "Epoch 15/100\n",
            "176/176 [==============================] - 1s 4ms/step - loss: 0.4029 - accuracy: 0.8078 - val_loss: 0.4409 - val_accuracy: 0.7903\n",
            "Epoch 16/100\n",
            "176/176 [==============================] - 1s 4ms/step - loss: 0.4027 - accuracy: 0.8078 - val_loss: 0.4410 - val_accuracy: 0.7839\n",
            "Epoch 17/100\n",
            "176/176 [==============================] - 1s 4ms/step - loss: 0.4027 - accuracy: 0.8082 - val_loss: 0.4409 - val_accuracy: 0.7882\n",
            "Epoch 18/100\n",
            "176/176 [==============================] - 1s 4ms/step - loss: 0.4025 - accuracy: 0.8082 - val_loss: 0.4408 - val_accuracy: 0.7868\n",
            "Epoch 19/100\n",
            "176/176 [==============================] - 1s 5ms/step - loss: 0.4025 - accuracy: 0.8096 - val_loss: 0.4409 - val_accuracy: 0.7882\n",
            "Epoch 20/100\n",
            "176/176 [==============================] - 1s 4ms/step - loss: 0.4024 - accuracy: 0.8075 - val_loss: 0.4410 - val_accuracy: 0.7896\n",
            "Epoch 21/100\n",
            "176/176 [==============================] - 0s 3ms/step - loss: 0.4023 - accuracy: 0.8080 - val_loss: 0.4410 - val_accuracy: 0.7896\n",
            "Epoch 22/100\n",
            "176/176 [==============================] - 0s 3ms/step - loss: 0.4022 - accuracy: 0.8080 - val_loss: 0.4409 - val_accuracy: 0.7889\n",
            "Epoch 23/100\n",
            "176/176 [==============================] - 0s 3ms/step - loss: 0.4022 - accuracy: 0.8082 - val_loss: 0.4410 - val_accuracy: 0.7846\n",
            "Epoch 24/100\n",
            "176/176 [==============================] - 0s 3ms/step - loss: 0.4020 - accuracy: 0.8092 - val_loss: 0.4411 - val_accuracy: 0.7861\n",
            "Epoch 25/100\n",
            "176/176 [==============================] - 1s 3ms/step - loss: 0.4019 - accuracy: 0.8085 - val_loss: 0.4409 - val_accuracy: 0.7882\n",
            "Epoch 26/100\n",
            "176/176 [==============================] - 0s 3ms/step - loss: 0.4018 - accuracy: 0.8087 - val_loss: 0.4409 - val_accuracy: 0.7882\n",
            "Epoch 27/100\n",
            "176/176 [==============================] - 1s 3ms/step - loss: 0.4017 - accuracy: 0.8084 - val_loss: 0.4408 - val_accuracy: 0.7889\n",
            "Epoch 28/100\n",
            "176/176 [==============================] - 1s 3ms/step - loss: 0.4016 - accuracy: 0.8089 - val_loss: 0.4409 - val_accuracy: 0.7896\n",
            "Epoch 29/100\n",
            "176/176 [==============================] - 0s 3ms/step - loss: 0.4016 - accuracy: 0.8084 - val_loss: 0.4410 - val_accuracy: 0.7896\n",
            "Epoch 30/100\n",
            "176/176 [==============================] - 0s 3ms/step - loss: 0.4015 - accuracy: 0.8078 - val_loss: 0.4410 - val_accuracy: 0.7903\n",
            "Epoch 31/100\n",
            "176/176 [==============================] - 1s 3ms/step - loss: 0.4013 - accuracy: 0.8084 - val_loss: 0.4410 - val_accuracy: 0.7918\n",
            "Epoch 32/100\n",
            "176/176 [==============================] - 0s 3ms/step - loss: 0.4013 - accuracy: 0.8089 - val_loss: 0.4410 - val_accuracy: 0.7903\n",
            "Epoch 33/100\n",
            "176/176 [==============================] - 1s 3ms/step - loss: 0.4012 - accuracy: 0.8089 - val_loss: 0.4409 - val_accuracy: 0.7889\n",
            "Epoch 34/100\n",
            "176/176 [==============================] - 0s 2ms/step - loss: 0.4012 - accuracy: 0.8087 - val_loss: 0.4411 - val_accuracy: 0.7896\n",
            "Epoch 35/100\n",
            "176/176 [==============================] - 0s 3ms/step - loss: 0.4010 - accuracy: 0.8084 - val_loss: 0.4412 - val_accuracy: 0.7896\n",
            "Epoch 36/100\n",
            "176/176 [==============================] - 1s 3ms/step - loss: 0.4009 - accuracy: 0.8082 - val_loss: 0.4411 - val_accuracy: 0.7932\n",
            "Epoch 37/100\n",
            "176/176 [==============================] - 0s 3ms/step - loss: 0.4009 - accuracy: 0.8085 - val_loss: 0.4413 - val_accuracy: 0.7910\n",
            "Epoch 38/100\n",
            "176/176 [==============================] - 1s 3ms/step - loss: 0.4007 - accuracy: 0.8087 - val_loss: 0.4412 - val_accuracy: 0.7903\n",
            "Epoch 39/100\n",
            "176/176 [==============================] - 0s 3ms/step - loss: 0.4007 - accuracy: 0.8096 - val_loss: 0.4411 - val_accuracy: 0.7875\n",
            "Epoch 40/100\n",
            "176/176 [==============================] - 1s 4ms/step - loss: 0.4005 - accuracy: 0.8087 - val_loss: 0.4410 - val_accuracy: 0.7868\n",
            "Epoch 41/100\n",
            "176/176 [==============================] - 1s 4ms/step - loss: 0.4004 - accuracy: 0.8094 - val_loss: 0.4411 - val_accuracy: 0.7875\n",
            "Epoch 42/100\n",
            "176/176 [==============================] - 1s 5ms/step - loss: 0.4003 - accuracy: 0.8089 - val_loss: 0.4411 - val_accuracy: 0.7889\n",
            "Epoch 43/100\n",
            "176/176 [==============================] - 1s 5ms/step - loss: 0.4002 - accuracy: 0.8085 - val_loss: 0.4411 - val_accuracy: 0.7896\n",
            "Epoch 44/100\n",
            "176/176 [==============================] - 1s 4ms/step - loss: 0.4002 - accuracy: 0.8094 - val_loss: 0.4414 - val_accuracy: 0.7918\n",
            "Epoch 45/100\n",
            "176/176 [==============================] - 1s 4ms/step - loss: 0.4000 - accuracy: 0.8096 - val_loss: 0.4413 - val_accuracy: 0.7918\n",
            "Epoch 46/100\n",
            "176/176 [==============================] - 1s 4ms/step - loss: 0.4000 - accuracy: 0.8087 - val_loss: 0.4414 - val_accuracy: 0.7882\n",
            "Epoch 47/100\n",
            "176/176 [==============================] - 1s 4ms/step - loss: 0.4000 - accuracy: 0.8087 - val_loss: 0.4414 - val_accuracy: 0.7903\n",
            "Epoch 48/100\n",
            "176/176 [==============================] - 1s 4ms/step - loss: 0.3998 - accuracy: 0.8098 - val_loss: 0.4413 - val_accuracy: 0.7903\n",
            "Epoch 49/100\n",
            "176/176 [==============================] - 1s 5ms/step - loss: 0.3998 - accuracy: 0.8085 - val_loss: 0.4414 - val_accuracy: 0.7889\n",
            "Epoch 50/100\n",
            "176/176 [==============================] - 1s 3ms/step - loss: 0.3997 - accuracy: 0.8084 - val_loss: 0.4412 - val_accuracy: 0.7903\n",
            "Epoch 51/100\n",
            "176/176 [==============================] - 0s 3ms/step - loss: 0.3996 - accuracy: 0.8089 - val_loss: 0.4413 - val_accuracy: 0.7875\n",
            "Epoch 52/100\n",
            "176/176 [==============================] - 1s 3ms/step - loss: 0.3995 - accuracy: 0.8096 - val_loss: 0.4411 - val_accuracy: 0.7903\n",
            "Epoch 53/100\n",
            "176/176 [==============================] - 0s 3ms/step - loss: 0.3994 - accuracy: 0.8094 - val_loss: 0.4413 - val_accuracy: 0.7896\n",
            "Epoch 54/100\n",
            "176/176 [==============================] - 0s 3ms/step - loss: 0.3995 - accuracy: 0.8082 - val_loss: 0.4414 - val_accuracy: 0.7903\n",
            "Epoch 55/100\n",
            "176/176 [==============================] - 1s 3ms/step - loss: 0.3992 - accuracy: 0.8091 - val_loss: 0.4413 - val_accuracy: 0.7896\n",
            "Epoch 56/100\n",
            "176/176 [==============================] - 1s 3ms/step - loss: 0.3993 - accuracy: 0.8094 - val_loss: 0.4414 - val_accuracy: 0.7896\n",
            "Epoch 57/100\n",
            "176/176 [==============================] - 0s 2ms/step - loss: 0.3992 - accuracy: 0.8091 - val_loss: 0.4415 - val_accuracy: 0.7882\n",
            "Epoch 58/100\n",
            "176/176 [==============================] - 1s 3ms/step - loss: 0.3991 - accuracy: 0.8098 - val_loss: 0.4414 - val_accuracy: 0.7875\n",
            "Epoch 59/100\n",
            "176/176 [==============================] - 1s 3ms/step - loss: 0.3989 - accuracy: 0.8098 - val_loss: 0.4414 - val_accuracy: 0.7889\n",
            "Epoch 60/100\n",
            "176/176 [==============================] - 1s 3ms/step - loss: 0.3989 - accuracy: 0.8092 - val_loss: 0.4413 - val_accuracy: 0.7896\n",
            "Epoch 61/100\n",
            "176/176 [==============================] - 1s 3ms/step - loss: 0.3988 - accuracy: 0.8105 - val_loss: 0.4414 - val_accuracy: 0.7889\n",
            "Epoch 62/100\n",
            "176/176 [==============================] - 0s 2ms/step - loss: 0.3987 - accuracy: 0.8098 - val_loss: 0.4413 - val_accuracy: 0.7889\n",
            "Epoch 63/100\n",
            "176/176 [==============================] - 1s 3ms/step - loss: 0.3986 - accuracy: 0.8105 - val_loss: 0.4414 - val_accuracy: 0.7903\n",
            "Epoch 64/100\n",
            "176/176 [==============================] - 0s 3ms/step - loss: 0.3987 - accuracy: 0.8094 - val_loss: 0.4414 - val_accuracy: 0.7896\n",
            "Epoch 65/100\n",
            "176/176 [==============================] - 0s 2ms/step - loss: 0.3985 - accuracy: 0.8101 - val_loss: 0.4415 - val_accuracy: 0.7910\n",
            "Epoch 66/100\n",
            "176/176 [==============================] - 1s 3ms/step - loss: 0.3984 - accuracy: 0.8098 - val_loss: 0.4414 - val_accuracy: 0.7889\n",
            "Epoch 67/100\n",
            "176/176 [==============================] - 1s 3ms/step - loss: 0.3983 - accuracy: 0.8103 - val_loss: 0.4415 - val_accuracy: 0.7903\n",
            "Epoch 68/100\n",
            "176/176 [==============================] - 0s 3ms/step - loss: 0.3983 - accuracy: 0.8105 - val_loss: 0.4416 - val_accuracy: 0.7889\n",
            "Epoch 69/100\n",
            "176/176 [==============================] - 1s 3ms/step - loss: 0.3982 - accuracy: 0.8107 - val_loss: 0.4418 - val_accuracy: 0.7889\n",
            "Epoch 70/100\n",
            "176/176 [==============================] - 1s 4ms/step - loss: 0.3982 - accuracy: 0.8101 - val_loss: 0.4416 - val_accuracy: 0.7896\n",
            "Epoch 71/100\n",
            "176/176 [==============================] - 1s 4ms/step - loss: 0.3981 - accuracy: 0.8098 - val_loss: 0.4416 - val_accuracy: 0.7896\n",
            "Epoch 72/100\n",
            "176/176 [==============================] - 1s 4ms/step - loss: 0.3980 - accuracy: 0.8110 - val_loss: 0.4415 - val_accuracy: 0.7896\n",
            "Epoch 73/100\n",
            "176/176 [==============================] - 1s 4ms/step - loss: 0.3979 - accuracy: 0.8112 - val_loss: 0.4416 - val_accuracy: 0.7896\n",
            "Epoch 74/100\n",
            "176/176 [==============================] - 1s 4ms/step - loss: 0.3978 - accuracy: 0.8103 - val_loss: 0.4416 - val_accuracy: 0.7896\n",
            "Epoch 75/100\n",
            "176/176 [==============================] - 1s 4ms/step - loss: 0.3977 - accuracy: 0.8107 - val_loss: 0.4417 - val_accuracy: 0.7896\n",
            "Epoch 76/100\n",
            "176/176 [==============================] - 1s 4ms/step - loss: 0.3978 - accuracy: 0.8117 - val_loss: 0.4415 - val_accuracy: 0.7882\n",
            "Epoch 77/100\n",
            "176/176 [==============================] - 1s 4ms/step - loss: 0.3976 - accuracy: 0.8123 - val_loss: 0.4416 - val_accuracy: 0.7868\n",
            "Epoch 78/100\n",
            "176/176 [==============================] - 1s 4ms/step - loss: 0.3975 - accuracy: 0.8108 - val_loss: 0.4417 - val_accuracy: 0.7889\n",
            "Epoch 79/100\n",
            "176/176 [==============================] - 1s 4ms/step - loss: 0.3975 - accuracy: 0.8105 - val_loss: 0.4418 - val_accuracy: 0.7889\n",
            "Epoch 80/100\n",
            "176/176 [==============================] - 1s 3ms/step - loss: 0.3974 - accuracy: 0.8105 - val_loss: 0.4416 - val_accuracy: 0.7882\n",
            "Epoch 81/100\n",
            "176/176 [==============================] - 0s 3ms/step - loss: 0.3974 - accuracy: 0.8107 - val_loss: 0.4416 - val_accuracy: 0.7868\n",
            "Epoch 82/100\n",
            "176/176 [==============================] - 0s 3ms/step - loss: 0.3973 - accuracy: 0.8107 - val_loss: 0.4417 - val_accuracy: 0.7875\n",
            "Epoch 83/100\n",
            "176/176 [==============================] - 0s 3ms/step - loss: 0.3971 - accuracy: 0.8112 - val_loss: 0.4419 - val_accuracy: 0.7889\n",
            "Epoch 84/100\n",
            "176/176 [==============================] - 1s 3ms/step - loss: 0.3972 - accuracy: 0.8107 - val_loss: 0.4419 - val_accuracy: 0.7882\n",
            "Epoch 85/100\n",
            "176/176 [==============================] - 0s 3ms/step - loss: 0.3971 - accuracy: 0.8117 - val_loss: 0.4420 - val_accuracy: 0.7896\n",
            "Epoch 86/100\n",
            "176/176 [==============================] - 1s 3ms/step - loss: 0.3970 - accuracy: 0.8121 - val_loss: 0.4421 - val_accuracy: 0.7889\n",
            "Epoch 87/100\n",
            "176/176 [==============================] - 0s 2ms/step - loss: 0.3969 - accuracy: 0.8114 - val_loss: 0.4421 - val_accuracy: 0.7882\n",
            "Epoch 88/100\n",
            "176/176 [==============================] - 0s 3ms/step - loss: 0.3968 - accuracy: 0.8103 - val_loss: 0.4421 - val_accuracy: 0.7889\n",
            "Epoch 89/100\n",
            "176/176 [==============================] - 0s 3ms/step - loss: 0.3969 - accuracy: 0.8110 - val_loss: 0.4422 - val_accuracy: 0.7882\n",
            "Epoch 90/100\n",
            "176/176 [==============================] - 1s 3ms/step - loss: 0.3966 - accuracy: 0.8114 - val_loss: 0.4420 - val_accuracy: 0.7889\n",
            "Epoch 91/100\n",
            "176/176 [==============================] - 0s 3ms/step - loss: 0.3966 - accuracy: 0.8116 - val_loss: 0.4421 - val_accuracy: 0.7882\n",
            "Epoch 92/100\n",
            "176/176 [==============================] - 0s 2ms/step - loss: 0.3965 - accuracy: 0.8124 - val_loss: 0.4420 - val_accuracy: 0.7882\n",
            "Epoch 93/100\n",
            "176/176 [==============================] - 1s 3ms/step - loss: 0.3964 - accuracy: 0.8103 - val_loss: 0.4420 - val_accuracy: 0.7889\n",
            "Epoch 94/100\n",
            "176/176 [==============================] - 0s 2ms/step - loss: 0.3966 - accuracy: 0.8112 - val_loss: 0.4420 - val_accuracy: 0.7889\n",
            "Epoch 95/100\n",
            "176/176 [==============================] - 0s 2ms/step - loss: 0.3964 - accuracy: 0.8123 - val_loss: 0.4420 - val_accuracy: 0.7882\n",
            "Epoch 96/100\n",
            "176/176 [==============================] - 0s 2ms/step - loss: 0.3962 - accuracy: 0.8108 - val_loss: 0.4420 - val_accuracy: 0.7910\n",
            "Epoch 97/100\n",
            "176/176 [==============================] - 0s 2ms/step - loss: 0.3962 - accuracy: 0.8117 - val_loss: 0.4421 - val_accuracy: 0.7889\n",
            "Epoch 98/100\n",
            "176/176 [==============================] - 0s 3ms/step - loss: 0.3961 - accuracy: 0.8114 - val_loss: 0.4421 - val_accuracy: 0.7882\n",
            "Epoch 99/100\n",
            "176/176 [==============================] - 1s 3ms/step - loss: 0.3961 - accuracy: 0.8112 - val_loss: 0.4421 - val_accuracy: 0.7882\n",
            "Epoch 100/100\n",
            "176/176 [==============================] - 0s 3ms/step - loss: 0.3960 - accuracy: 0.8112 - val_loss: 0.4422 - val_accuracy: 0.7910\n"
          ]
        },
        {
          "output_type": "execute_result",
          "data": {
            "text/plain": [
              "<keras.src.callbacks.History at 0x7f114b272110>"
            ]
          },
          "metadata": {},
          "execution_count": 47
        }
      ],
      "source": [
        "model = Model(inputs=inputLayer, outputs=outputLayer)\n",
        "\n",
        "model.compile(optimizer=Adam(learning_rate=0.0001), loss='binary_crossentropy', metrics=['accuracy'])\n",
        "\n",
        "model.fit(X_train, y_train, epochs=100, batch_size=32, validation_data=(X_test, y_test))"
      ]
    },
    {
      "cell_type": "code",
      "execution_count": 29,
      "metadata": {
        "colab": {
          "base_uri": "https://localhost:8080/"
        },
        "id": "GMXMNxHMHnAD",
        "outputId": "c1fec6b6-c21d-4d88-eb05-ed0a3e94add3"
      },
      "outputs": [
        {
          "output_type": "stream",
          "name": "stdout",
          "text": [
            "176/176 [==============================] - 0s 2ms/step - loss: 0.4039 - accuracy: 0.8062\n"
          ]
        },
        {
          "output_type": "execute_result",
          "data": {
            "text/plain": [
              "[0.40390026569366455,\n",
              " 0.8062222003936768,\n",
              " 0.40390026569366455,\n",
              " 0.8062222003936768,\n",
              " 0.40390026569366455,\n",
              " 0.8062222003936768,\n",
              " 0.40390026569366455,\n",
              " 0.8062222003936768,\n",
              " 0.40390026569366455,\n",
              " 0.8062222003936768,\n",
              " 0.40390026569366455,\n",
              " 0.8062222003936768,\n",
              " 0.40390026569366455,\n",
              " 0.8062222003936768,\n",
              " 0.40390026569366455,\n",
              " 0.8062222003936768,\n",
              " 0.40390026569366455,\n",
              " 0.8062222003936768,\n",
              " 0.40390026569366455,\n",
              " 0.8062222003936768,\n",
              " 0.40390026569366455,\n",
              " 0.8062222003936768,\n",
              " 0.40390026569366455,\n",
              " 0.8062222003936768,\n",
              " 0.40390026569366455,\n",
              " 0.8062222003936768,\n",
              " 0.40390026569366455,\n",
              " 0.8062222003936768,\n",
              " 0.40390026569366455,\n",
              " 0.8062222003936768,\n",
              " 0.40390026569366455,\n",
              " 0.8062222003936768,\n",
              " 0.40390026569366455,\n",
              " 0.8062222003936768,\n",
              " 0.40390026569366455,\n",
              " 0.8062222003936768,\n",
              " 0.40390026569366455,\n",
              " 0.8062222003936768,\n",
              " 0.40390026569366455,\n",
              " 0.8062222003936768,\n",
              " 0.40390026569366455,\n",
              " 0.8062222003936768,\n",
              " 0.40390026569366455,\n",
              " 0.8062222003936768,\n",
              " 0.40390026569366455,\n",
              " 0.8062222003936768,\n",
              " 0.40390026569366455,\n",
              " 0.8062222003936768,\n",
              " 0.40390026569366455,\n",
              " 0.8062222003936768,\n",
              " 0.40390026569366455,\n",
              " 0.8062222003936768,\n",
              " 0.40390026569366455,\n",
              " 0.8062222003936768,\n",
              " 0.40390026569366455,\n",
              " 0.8062222003936768,\n",
              " 0.40390026569366455,\n",
              " 0.8062222003936768,\n",
              " 0.40390026569366455,\n",
              " 0.8062222003936768,\n",
              " 0.40390026569366455,\n",
              " 0.8062222003936768,\n",
              " 0.40390026569366455,\n",
              " 0.8062222003936768,\n",
              " 0.40390026569366455,\n",
              " 0.8062222003936768,\n",
              " 0.40390026569366455,\n",
              " 0.8062222003936768,\n",
              " 0.40390026569366455,\n",
              " 0.8062222003936768,\n",
              " 0.40390026569366455,\n",
              " 0.8062222003936768,\n",
              " 0.40390026569366455,\n",
              " 0.8062222003936768,\n",
              " 0.40390026569366455,\n",
              " 0.8062222003936768,\n",
              " 0.40390026569366455,\n",
              " 0.8062222003936768,\n",
              " 0.40390026569366455,\n",
              " 0.8062222003936768,\n",
              " 0.40390026569366455,\n",
              " 0.8062222003936768,\n",
              " 0.40390026569366455,\n",
              " 0.8062222003936768,\n",
              " 0.40390026569366455,\n",
              " 0.8062222003936768,\n",
              " 0.40390026569366455,\n",
              " 0.8062222003936768,\n",
              " 0.40390026569366455,\n",
              " 0.8062222003936768,\n",
              " 0.40390026569366455,\n",
              " 0.8062222003936768,\n",
              " 0.40390026569366455,\n",
              " 0.8062222003936768,\n",
              " 0.40390026569366455,\n",
              " 0.8062222003936768,\n",
              " 0.40390026569366455,\n",
              " 0.8062222003936768,\n",
              " 0.40390026569366455,\n",
              " 0.8062222003936768,\n",
              " 0.40390026569366455,\n",
              " 0.8062222003936768,\n",
              " 0.40390026569366455,\n",
              " 0.8062222003936768,\n",
              " 0.40390026569366455,\n",
              " 0.8062222003936768,\n",
              " 0.40390026569366455,\n",
              " 0.8062222003936768,\n",
              " 0.40390026569366455,\n",
              " 0.8062222003936768,\n",
              " 0.40390026569366455,\n",
              " 0.8062222003936768,\n",
              " 0.40390026569366455,\n",
              " 0.8062222003936768,\n",
              " 0.40390026569366455,\n",
              " 0.8062222003936768,\n",
              " 0.40390026569366455,\n",
              " 0.8062222003936768,\n",
              " 0.40390026569366455,\n",
              " 0.8062222003936768,\n",
              " 0.40390026569366455,\n",
              " 0.8062222003936768,\n",
              " 0.40390026569366455,\n",
              " 0.8062222003936768,\n",
              " 0.40390026569366455,\n",
              " 0.8062222003936768,\n",
              " 0.40390026569366455,\n",
              " 0.8062222003936768,\n",
              " 0.40390026569366455,\n",
              " 0.8062222003936768,\n",
              " 0.40390026569366455,\n",
              " 0.8062222003936768,\n",
              " 0.40390026569366455,\n",
              " 0.8062222003936768,\n",
              " 0.40390026569366455,\n",
              " 0.8062222003936768,\n",
              " 0.40390026569366455,\n",
              " 0.8062222003936768,\n",
              " 0.40390026569366455,\n",
              " 0.8062222003936768,\n",
              " 0.40390026569366455,\n",
              " 0.8062222003936768,\n",
              " 0.40390026569366455,\n",
              " 0.8062222003936768,\n",
              " 0.40390026569366455,\n",
              " 0.8062222003936768,\n",
              " 0.40390026569366455,\n",
              " 0.8062222003936768,\n",
              " 0.40390026569366455,\n",
              " 0.8062222003936768,\n",
              " 0.40390026569366455,\n",
              " 0.8062222003936768,\n",
              " 0.40390026569366455,\n",
              " 0.8062222003936768,\n",
              " 0.40390026569366455,\n",
              " 0.8062222003936768,\n",
              " 0.40390026569366455,\n",
              " 0.8062222003936768,\n",
              " 0.40390026569366455,\n",
              " 0.8062222003936768,\n",
              " 0.40390026569366455,\n",
              " 0.8062222003936768,\n",
              " 0.40390026569366455,\n",
              " 0.8062222003936768,\n",
              " 0.40390026569366455,\n",
              " 0.8062222003936768,\n",
              " 0.40390026569366455,\n",
              " 0.8062222003936768,\n",
              " 0.40390026569366455,\n",
              " 0.8062222003936768,\n",
              " 0.40390026569366455,\n",
              " 0.8062222003936768,\n",
              " 0.40390026569366455,\n",
              " 0.8062222003936768,\n",
              " 0.40390026569366455,\n",
              " 0.8062222003936768,\n",
              " 0.40390026569366455,\n",
              " 0.8062222003936768,\n",
              " 0.40390026569366455,\n",
              " 0.8062222003936768,\n",
              " 0.40390026569366455,\n",
              " 0.8062222003936768,\n",
              " 0.40390026569366455,\n",
              " 0.8062222003936768,\n",
              " 0.40390026569366455,\n",
              " 0.8062222003936768,\n",
              " 0.40390026569366455,\n",
              " 0.8062222003936768,\n",
              " 0.40390026569366455,\n",
              " 0.8062222003936768,\n",
              " 0.40390026569366455,\n",
              " 0.8062222003936768,\n",
              " 0.40390026569366455,\n",
              " 0.8062222003936768,\n",
              " 0.40390026569366455,\n",
              " 0.8062222003936768,\n",
              " 0.40390026569366455,\n",
              " 0.8062222003936768,\n",
              " 0.40390026569366455,\n",
              " 0.8062222003936768]"
            ]
          },
          "metadata": {},
          "execution_count": 29
        }
      ],
      "source": [
        "accuracy_score = model.evaluate(X_train, y_train)\n",
        "accuracy_score*100"
      ]
    },
    {
      "cell_type": "markdown",
      "metadata": {
        "id": "ednHMr_Yw6Zs"
      },
      "source": [
        "**GRID** **SEARCH**"
      ]
    },
    {
      "cell_type": "code",
      "execution_count": 30,
      "metadata": {
        "id": "-XNeWPosDwRx"
      },
      "outputs": [],
      "source": [
        "#create the model\n",
        "def model_created(optimizer='adam',hidden_layer_sizes=(64,), activation='relu'):\n",
        "   model = Sequential()\n",
        "   model.add(Dense(12, input_shape=(X_train.shape[1],), activation='relu'))\n",
        "   model.add(Dense(1, activation='sigmoid'))\n",
        "   optimizer = ['SGD', 'Adam', 'RMSProp']\n",
        "   # Compile model\n",
        "   model.compile(loss='binary_crossentropy', optimizer=optimizer, metrics=['accuracy'])\n",
        "   return model"
      ]
    },
    {
      "cell_type": "code",
      "execution_count": 32,
      "metadata": {
        "colab": {
          "base_uri": "https://localhost:8080/"
        },
        "id": "4_74Xb87H1-U",
        "outputId": "851f0a52-df47-42c9-bbfd-576bf6772944"
      },
      "outputs": [
        {
          "output_type": "stream",
          "name": "stderr",
          "text": [
            "/usr/local/lib/python3.10/dist-packages/scikeras/wrappers.py:915: UserWarning: ``build_fn`` will be renamed to ``model`` in a future release, at which point use of ``build_fn`` will raise an Error instead.\n",
            "  X, y = self._initialize(X, y)\n"
          ]
        }
      ],
      "source": [
        "def create_model(optimizer='adam', hidden_layer_sizes=(64,), activation='relu'):\n",
        "    model = Sequential()\n",
        "    model.add(Dense(hidden_layer_sizes[0], activation=activation, input_shape=(X_train.shape[1],)))\n",
        "    model.add(Dense(1, activation='sigmoid'))\n",
        "    model.compile(optimizer=optimizer, loss='binary_crossentropy', metrics=['accuracy'])\n",
        "    return model\n",
        "\n",
        "model = KerasClassifier(build_fn=create_model, epochs=50, batch_size=32, verbose=0)\n",
        "batch_size = [8,16,32]\n",
        "epochs = [10,50,100,250]\n",
        "activation = ['relu', 'elu', 'swish', 'leaky_relu']\n",
        "\n",
        "param_grid = dict(batch_size=batch_size, epochs=epochs)\n",
        "\n",
        "grid = GridSearchCV(estimator=model, param_grid=param_grid, n_jobs=-1, cv=3)\n",
        "grid_result = grid.fit(X, y)"
      ]
    },
    {
      "cell_type": "code",
      "execution_count": 33,
      "metadata": {
        "id": "KeOm9PjtJ4eF"
      },
      "outputs": [],
      "source": [
        "bestModel = grid_result.best_estimator_"
      ]
    },
    {
      "cell_type": "code",
      "source": [
        "X_test"
      ],
      "metadata": {
        "colab": {
          "base_uri": "https://localhost:8080/",
          "height": 443
        },
        "id": "ZeRuXdyqayLW",
        "outputId": "f60213a6-9bc8-451e-e851-a39514a9477a"
      },
      "execution_count": 56,
      "outputs": [
        {
          "output_type": "execute_result",
          "data": {
            "text/plain": [
              "        gender  SeniorCitizen    tenure  InternetService  OnlineSecurity  \\\n",
              "2476  0.990658       2.271039  1.164390         1.529285        0.245087   \n",
              "6773 -1.009430      -0.440327 -0.546857         1.529285        0.245087   \n",
              "6116  0.990658      -0.440327 -0.791321         0.172835       -0.917837   \n",
              "3047  0.990658      -0.440327  0.186535        -1.183614        1.408012   \n",
              "4092 -1.009430      -0.440327 -1.076528        -1.183614        1.408012   \n",
              "...        ...            ...       ...              ...             ...   \n",
              "1728  0.990658      -0.440327 -1.280248         1.529285        0.245087   \n",
              "5241  0.990658      -0.440327 -0.832064         0.172835       -0.917837   \n",
              "5456 -1.009430      -0.440327 -0.261649        -1.183614       -0.917837   \n",
              "5842 -1.009430       2.271039  0.105047         0.172835        1.408012   \n",
              "3977 -1.009430      -0.440327  1.612573         1.529285        0.245087   \n",
              "\n",
              "      OnlineBackup  TechSupport  Contract  PaymentMethod  MonthlyCharges  \\\n",
              "2476      0.106938     0.236348  1.574587      -1.473857       -1.322910   \n",
              "6773      0.106938     0.236348 -0.826735      -1.473857       -1.332882   \n",
              "6116     -1.028998    -0.924267 -0.826735      -0.537026        1.244914   \n",
              "3047     -1.028998    -0.924267 -0.826735       1.336636       -0.324035   \n",
              "4092     -1.028998    -0.924267 -0.826735      -1.473857       -1.174990   \n",
              "...            ...          ...       ...            ...             ...   \n",
              "1728      0.106938     0.236348 -0.826735       1.336636       -1.520691   \n",
              "5241     -1.028998    -0.924267 -0.826735       0.399805        0.988963   \n",
              "5456      1.242875    -0.924267  0.373926       1.336636       -0.290794   \n",
              "5842      1.242875     1.396963  0.373926      -1.473857        1.529120   \n",
              "3977      0.106938     0.236348  1.574587      -1.473857       -1.319586   \n",
              "\n",
              "      TotalCharges  \n",
              "2476     -0.344810  \n",
              "6773     -0.801836  \n",
              "6116     -0.407790  \n",
              "3047     -0.111422  \n",
              "4092     -0.936134  \n",
              "...            ...  \n",
              "1728     -0.998959  \n",
              "5241     -0.489608  \n",
              "5456     -0.322111  \n",
              "5842      0.685164  \n",
              "3977     -0.187703  \n",
              "\n",
              "[1407 rows x 11 columns]"
            ],
            "text/html": [
              "\n",
              "  <div id=\"df-ae6ef80e-9dfe-4d27-b6ea-270951ff12fe\" class=\"colab-df-container\">\n",
              "    <div>\n",
              "<style scoped>\n",
              "    .dataframe tbody tr th:only-of-type {\n",
              "        vertical-align: middle;\n",
              "    }\n",
              "\n",
              "    .dataframe tbody tr th {\n",
              "        vertical-align: top;\n",
              "    }\n",
              "\n",
              "    .dataframe thead th {\n",
              "        text-align: right;\n",
              "    }\n",
              "</style>\n",
              "<table border=\"1\" class=\"dataframe\">\n",
              "  <thead>\n",
              "    <tr style=\"text-align: right;\">\n",
              "      <th></th>\n",
              "      <th>gender</th>\n",
              "      <th>SeniorCitizen</th>\n",
              "      <th>tenure</th>\n",
              "      <th>InternetService</th>\n",
              "      <th>OnlineSecurity</th>\n",
              "      <th>OnlineBackup</th>\n",
              "      <th>TechSupport</th>\n",
              "      <th>Contract</th>\n",
              "      <th>PaymentMethod</th>\n",
              "      <th>MonthlyCharges</th>\n",
              "      <th>TotalCharges</th>\n",
              "    </tr>\n",
              "  </thead>\n",
              "  <tbody>\n",
              "    <tr>\n",
              "      <th>2476</th>\n",
              "      <td>0.990658</td>\n",
              "      <td>2.271039</td>\n",
              "      <td>1.164390</td>\n",
              "      <td>1.529285</td>\n",
              "      <td>0.245087</td>\n",
              "      <td>0.106938</td>\n",
              "      <td>0.236348</td>\n",
              "      <td>1.574587</td>\n",
              "      <td>-1.473857</td>\n",
              "      <td>-1.322910</td>\n",
              "      <td>-0.344810</td>\n",
              "    </tr>\n",
              "    <tr>\n",
              "      <th>6773</th>\n",
              "      <td>-1.009430</td>\n",
              "      <td>-0.440327</td>\n",
              "      <td>-0.546857</td>\n",
              "      <td>1.529285</td>\n",
              "      <td>0.245087</td>\n",
              "      <td>0.106938</td>\n",
              "      <td>0.236348</td>\n",
              "      <td>-0.826735</td>\n",
              "      <td>-1.473857</td>\n",
              "      <td>-1.332882</td>\n",
              "      <td>-0.801836</td>\n",
              "    </tr>\n",
              "    <tr>\n",
              "      <th>6116</th>\n",
              "      <td>0.990658</td>\n",
              "      <td>-0.440327</td>\n",
              "      <td>-0.791321</td>\n",
              "      <td>0.172835</td>\n",
              "      <td>-0.917837</td>\n",
              "      <td>-1.028998</td>\n",
              "      <td>-0.924267</td>\n",
              "      <td>-0.826735</td>\n",
              "      <td>-0.537026</td>\n",
              "      <td>1.244914</td>\n",
              "      <td>-0.407790</td>\n",
              "    </tr>\n",
              "    <tr>\n",
              "      <th>3047</th>\n",
              "      <td>0.990658</td>\n",
              "      <td>-0.440327</td>\n",
              "      <td>0.186535</td>\n",
              "      <td>-1.183614</td>\n",
              "      <td>1.408012</td>\n",
              "      <td>-1.028998</td>\n",
              "      <td>-0.924267</td>\n",
              "      <td>-0.826735</td>\n",
              "      <td>1.336636</td>\n",
              "      <td>-0.324035</td>\n",
              "      <td>-0.111422</td>\n",
              "    </tr>\n",
              "    <tr>\n",
              "      <th>4092</th>\n",
              "      <td>-1.009430</td>\n",
              "      <td>-0.440327</td>\n",
              "      <td>-1.076528</td>\n",
              "      <td>-1.183614</td>\n",
              "      <td>1.408012</td>\n",
              "      <td>-1.028998</td>\n",
              "      <td>-0.924267</td>\n",
              "      <td>-0.826735</td>\n",
              "      <td>-1.473857</td>\n",
              "      <td>-1.174990</td>\n",
              "      <td>-0.936134</td>\n",
              "    </tr>\n",
              "    <tr>\n",
              "      <th>...</th>\n",
              "      <td>...</td>\n",
              "      <td>...</td>\n",
              "      <td>...</td>\n",
              "      <td>...</td>\n",
              "      <td>...</td>\n",
              "      <td>...</td>\n",
              "      <td>...</td>\n",
              "      <td>...</td>\n",
              "      <td>...</td>\n",
              "      <td>...</td>\n",
              "      <td>...</td>\n",
              "    </tr>\n",
              "    <tr>\n",
              "      <th>1728</th>\n",
              "      <td>0.990658</td>\n",
              "      <td>-0.440327</td>\n",
              "      <td>-1.280248</td>\n",
              "      <td>1.529285</td>\n",
              "      <td>0.245087</td>\n",
              "      <td>0.106938</td>\n",
              "      <td>0.236348</td>\n",
              "      <td>-0.826735</td>\n",
              "      <td>1.336636</td>\n",
              "      <td>-1.520691</td>\n",
              "      <td>-0.998959</td>\n",
              "    </tr>\n",
              "    <tr>\n",
              "      <th>5241</th>\n",
              "      <td>0.990658</td>\n",
              "      <td>-0.440327</td>\n",
              "      <td>-0.832064</td>\n",
              "      <td>0.172835</td>\n",
              "      <td>-0.917837</td>\n",
              "      <td>-1.028998</td>\n",
              "      <td>-0.924267</td>\n",
              "      <td>-0.826735</td>\n",
              "      <td>0.399805</td>\n",
              "      <td>0.988963</td>\n",
              "      <td>-0.489608</td>\n",
              "    </tr>\n",
              "    <tr>\n",
              "      <th>5456</th>\n",
              "      <td>-1.009430</td>\n",
              "      <td>-0.440327</td>\n",
              "      <td>-0.261649</td>\n",
              "      <td>-1.183614</td>\n",
              "      <td>-0.917837</td>\n",
              "      <td>1.242875</td>\n",
              "      <td>-0.924267</td>\n",
              "      <td>0.373926</td>\n",
              "      <td>1.336636</td>\n",
              "      <td>-0.290794</td>\n",
              "      <td>-0.322111</td>\n",
              "    </tr>\n",
              "    <tr>\n",
              "      <th>5842</th>\n",
              "      <td>-1.009430</td>\n",
              "      <td>2.271039</td>\n",
              "      <td>0.105047</td>\n",
              "      <td>0.172835</td>\n",
              "      <td>1.408012</td>\n",
              "      <td>1.242875</td>\n",
              "      <td>1.396963</td>\n",
              "      <td>0.373926</td>\n",
              "      <td>-1.473857</td>\n",
              "      <td>1.529120</td>\n",
              "      <td>0.685164</td>\n",
              "    </tr>\n",
              "    <tr>\n",
              "      <th>3977</th>\n",
              "      <td>-1.009430</td>\n",
              "      <td>-0.440327</td>\n",
              "      <td>1.612573</td>\n",
              "      <td>1.529285</td>\n",
              "      <td>0.245087</td>\n",
              "      <td>0.106938</td>\n",
              "      <td>0.236348</td>\n",
              "      <td>1.574587</td>\n",
              "      <td>-1.473857</td>\n",
              "      <td>-1.319586</td>\n",
              "      <td>-0.187703</td>\n",
              "    </tr>\n",
              "  </tbody>\n",
              "</table>\n",
              "<p>1407 rows × 11 columns</p>\n",
              "</div>\n",
              "    <div class=\"colab-df-buttons\">\n",
              "\n",
              "  <div class=\"colab-df-container\">\n",
              "    <button class=\"colab-df-convert\" onclick=\"convertToInteractive('df-ae6ef80e-9dfe-4d27-b6ea-270951ff12fe')\"\n",
              "            title=\"Convert this dataframe to an interactive table.\"\n",
              "            style=\"display:none;\">\n",
              "\n",
              "  <svg xmlns=\"http://www.w3.org/2000/svg\" height=\"24px\" viewBox=\"0 -960 960 960\">\n",
              "    <path d=\"M120-120v-720h720v720H120Zm60-500h600v-160H180v160Zm220 220h160v-160H400v160Zm0 220h160v-160H400v160ZM180-400h160v-160H180v160Zm440 0h160v-160H620v160ZM180-180h160v-160H180v160Zm440 0h160v-160H620v160Z\"/>\n",
              "  </svg>\n",
              "    </button>\n",
              "\n",
              "  <style>\n",
              "    .colab-df-container {\n",
              "      display:flex;\n",
              "      gap: 12px;\n",
              "    }\n",
              "\n",
              "    .colab-df-convert {\n",
              "      background-color: #E8F0FE;\n",
              "      border: none;\n",
              "      border-radius: 50%;\n",
              "      cursor: pointer;\n",
              "      display: none;\n",
              "      fill: #1967D2;\n",
              "      height: 32px;\n",
              "      padding: 0 0 0 0;\n",
              "      width: 32px;\n",
              "    }\n",
              "\n",
              "    .colab-df-convert:hover {\n",
              "      background-color: #E2EBFA;\n",
              "      box-shadow: 0px 1px 2px rgba(60, 64, 67, 0.3), 0px 1px 3px 1px rgba(60, 64, 67, 0.15);\n",
              "      fill: #174EA6;\n",
              "    }\n",
              "\n",
              "    .colab-df-buttons div {\n",
              "      margin-bottom: 4px;\n",
              "    }\n",
              "\n",
              "    [theme=dark] .colab-df-convert {\n",
              "      background-color: #3B4455;\n",
              "      fill: #D2E3FC;\n",
              "    }\n",
              "\n",
              "    [theme=dark] .colab-df-convert:hover {\n",
              "      background-color: #434B5C;\n",
              "      box-shadow: 0px 1px 3px 1px rgba(0, 0, 0, 0.15);\n",
              "      filter: drop-shadow(0px 1px 2px rgba(0, 0, 0, 0.3));\n",
              "      fill: #FFFFFF;\n",
              "    }\n",
              "  </style>\n",
              "\n",
              "    <script>\n",
              "      const buttonEl =\n",
              "        document.querySelector('#df-ae6ef80e-9dfe-4d27-b6ea-270951ff12fe button.colab-df-convert');\n",
              "      buttonEl.style.display =\n",
              "        google.colab.kernel.accessAllowed ? 'block' : 'none';\n",
              "\n",
              "      async function convertToInteractive(key) {\n",
              "        const element = document.querySelector('#df-ae6ef80e-9dfe-4d27-b6ea-270951ff12fe');\n",
              "        const dataTable =\n",
              "          await google.colab.kernel.invokeFunction('convertToInteractive',\n",
              "                                                    [key], {});\n",
              "        if (!dataTable) return;\n",
              "\n",
              "        const docLinkHtml = 'Like what you see? Visit the ' +\n",
              "          '<a target=\"_blank\" href=https://colab.research.google.com/notebooks/data_table.ipynb>data table notebook</a>'\n",
              "          + ' to learn more about interactive tables.';\n",
              "        element.innerHTML = '';\n",
              "        dataTable['output_type'] = 'display_data';\n",
              "        await google.colab.output.renderOutput(dataTable, element);\n",
              "        const docLink = document.createElement('div');\n",
              "        docLink.innerHTML = docLinkHtml;\n",
              "        element.appendChild(docLink);\n",
              "      }\n",
              "    </script>\n",
              "  </div>\n",
              "\n",
              "\n",
              "<div id=\"df-1aff6fbb-4523-4b43-967e-47397556a1f4\">\n",
              "  <button class=\"colab-df-quickchart\" onclick=\"quickchart('df-1aff6fbb-4523-4b43-967e-47397556a1f4')\"\n",
              "            title=\"Suggest charts\"\n",
              "            style=\"display:none;\">\n",
              "\n",
              "<svg xmlns=\"http://www.w3.org/2000/svg\" height=\"24px\"viewBox=\"0 0 24 24\"\n",
              "     width=\"24px\">\n",
              "    <g>\n",
              "        <path d=\"M19 3H5c-1.1 0-2 .9-2 2v14c0 1.1.9 2 2 2h14c1.1 0 2-.9 2-2V5c0-1.1-.9-2-2-2zM9 17H7v-7h2v7zm4 0h-2V7h2v10zm4 0h-2v-4h2v4z\"/>\n",
              "    </g>\n",
              "</svg>\n",
              "  </button>\n",
              "\n",
              "<style>\n",
              "  .colab-df-quickchart {\n",
              "      --bg-color: #E8F0FE;\n",
              "      --fill-color: #1967D2;\n",
              "      --hover-bg-color: #E2EBFA;\n",
              "      --hover-fill-color: #174EA6;\n",
              "      --disabled-fill-color: #AAA;\n",
              "      --disabled-bg-color: #DDD;\n",
              "  }\n",
              "\n",
              "  [theme=dark] .colab-df-quickchart {\n",
              "      --bg-color: #3B4455;\n",
              "      --fill-color: #D2E3FC;\n",
              "      --hover-bg-color: #434B5C;\n",
              "      --hover-fill-color: #FFFFFF;\n",
              "      --disabled-bg-color: #3B4455;\n",
              "      --disabled-fill-color: #666;\n",
              "  }\n",
              "\n",
              "  .colab-df-quickchart {\n",
              "    background-color: var(--bg-color);\n",
              "    border: none;\n",
              "    border-radius: 50%;\n",
              "    cursor: pointer;\n",
              "    display: none;\n",
              "    fill: var(--fill-color);\n",
              "    height: 32px;\n",
              "    padding: 0;\n",
              "    width: 32px;\n",
              "  }\n",
              "\n",
              "  .colab-df-quickchart:hover {\n",
              "    background-color: var(--hover-bg-color);\n",
              "    box-shadow: 0 1px 2px rgba(60, 64, 67, 0.3), 0 1px 3px 1px rgba(60, 64, 67, 0.15);\n",
              "    fill: var(--button-hover-fill-color);\n",
              "  }\n",
              "\n",
              "  .colab-df-quickchart-complete:disabled,\n",
              "  .colab-df-quickchart-complete:disabled:hover {\n",
              "    background-color: var(--disabled-bg-color);\n",
              "    fill: var(--disabled-fill-color);\n",
              "    box-shadow: none;\n",
              "  }\n",
              "\n",
              "  .colab-df-spinner {\n",
              "    border: 2px solid var(--fill-color);\n",
              "    border-color: transparent;\n",
              "    border-bottom-color: var(--fill-color);\n",
              "    animation:\n",
              "      spin 1s steps(1) infinite;\n",
              "  }\n",
              "\n",
              "  @keyframes spin {\n",
              "    0% {\n",
              "      border-color: transparent;\n",
              "      border-bottom-color: var(--fill-color);\n",
              "      border-left-color: var(--fill-color);\n",
              "    }\n",
              "    20% {\n",
              "      border-color: transparent;\n",
              "      border-left-color: var(--fill-color);\n",
              "      border-top-color: var(--fill-color);\n",
              "    }\n",
              "    30% {\n",
              "      border-color: transparent;\n",
              "      border-left-color: var(--fill-color);\n",
              "      border-top-color: var(--fill-color);\n",
              "      border-right-color: var(--fill-color);\n",
              "    }\n",
              "    40% {\n",
              "      border-color: transparent;\n",
              "      border-right-color: var(--fill-color);\n",
              "      border-top-color: var(--fill-color);\n",
              "    }\n",
              "    60% {\n",
              "      border-color: transparent;\n",
              "      border-right-color: var(--fill-color);\n",
              "    }\n",
              "    80% {\n",
              "      border-color: transparent;\n",
              "      border-right-color: var(--fill-color);\n",
              "      border-bottom-color: var(--fill-color);\n",
              "    }\n",
              "    90% {\n",
              "      border-color: transparent;\n",
              "      border-bottom-color: var(--fill-color);\n",
              "    }\n",
              "  }\n",
              "</style>\n",
              "\n",
              "  <script>\n",
              "    async function quickchart(key) {\n",
              "      const quickchartButtonEl =\n",
              "        document.querySelector('#' + key + ' button');\n",
              "      quickchartButtonEl.disabled = true;  // To prevent multiple clicks.\n",
              "      quickchartButtonEl.classList.add('colab-df-spinner');\n",
              "      try {\n",
              "        const charts = await google.colab.kernel.invokeFunction(\n",
              "            'suggestCharts', [key], {});\n",
              "      } catch (error) {\n",
              "        console.error('Error during call to suggestCharts:', error);\n",
              "      }\n",
              "      quickchartButtonEl.classList.remove('colab-df-spinner');\n",
              "      quickchartButtonEl.classList.add('colab-df-quickchart-complete');\n",
              "    }\n",
              "    (() => {\n",
              "      let quickchartButtonEl =\n",
              "        document.querySelector('#df-1aff6fbb-4523-4b43-967e-47397556a1f4 button');\n",
              "      quickchartButtonEl.style.display =\n",
              "        google.colab.kernel.accessAllowed ? 'block' : 'none';\n",
              "    })();\n",
              "  </script>\n",
              "</div>\n",
              "    </div>\n",
              "  </div>\n"
            ]
          },
          "metadata": {},
          "execution_count": 56
        }
      ]
    },
    {
      "cell_type": "code",
      "execution_count": 57,
      "metadata": {
        "id": "JAEjQc6hV8HW"
      },
      "outputs": [],
      "source": [
        "y_pred = bestModel.predict(X_test)\n"
      ]
    },
    {
      "cell_type": "code",
      "source": [
        "y_pred = y_pred.astype(float)"
      ],
      "metadata": {
        "id": "mUxD7wvxTK17"
      },
      "execution_count": 61,
      "outputs": []
    },
    {
      "cell_type": "code",
      "execution_count": 63,
      "metadata": {
        "id": "Q6juaPhvV9pH",
        "colab": {
          "base_uri": "https://localhost:8080/"
        },
        "outputId": "d2d8928e-a592-4998-f390-981c13a3f8af"
      },
      "outputs": [
        {
          "output_type": "stream",
          "name": "stdout",
          "text": [
            "The AUC Score:  0.83933017896061\n"
          ]
        }
      ],
      "source": [
        "#Caculating the accuracy scores\n",
        "#accuracyScore = accuracy_score(y_test, y_pred)\n",
        "#print(\"The test Accuracy: \", accuracyScore)\n",
        "y_pred = bestModel.predict_proba(X_test)[:, 1]\n",
        "auc_score = roc_auc_score(y_test, y_pred)\n",
        "print(\"The AUC Score: \", auc_score)"
      ]
    },
    {
      "cell_type": "code",
      "execution_count": 65,
      "metadata": {
        "id": "6Jr60wREaRvh"
      },
      "outputs": [],
      "source": [
        "with open('scaler.pkl', 'wb') as file:\n",
        "    pickle.dump(sc, file)\n",
        "\n",
        "with open('encode.pkl', 'wb') as file:\n",
        "    pickle.dump(label_encoder, file)"
      ]
    },
    {
      "cell_type": "code",
      "source": [
        "grid_result.best_params_"
      ],
      "metadata": {
        "colab": {
          "base_uri": "https://localhost:8080/"
        },
        "id": "FxnZS1BRevP8",
        "outputId": "9b6a53f1-ed5a-4f1e-f871-8a176948f664"
      },
      "execution_count": 70,
      "outputs": [
        {
          "output_type": "execute_result",
          "data": {
            "text/plain": [
              "{'batch_size': 8, 'epochs': 10}"
            ]
          },
          "metadata": {},
          "execution_count": 70
        }
      ]
    },
    {
      "cell_type": "code",
      "execution_count": 82,
      "metadata": {
        "id": "ubuySNT3fifH"
      },
      "outputs": [],
      "source": [
        "from tensorflow.keras.losses import binary_crossentropy\n",
        "\n",
        "def createModel(dropout_rate=0.2, loss=binary_crossentropy, metrics=['accuracy']):\n",
        "    input_layer = Input(shape=(X.shape[1],))\n",
        "    hidden_layer1 = Dense(64, activation='relu')(input_layer)\n",
        "    dropout_1 = Dropout(dropout_rate)(hidden_layer1)\n",
        "    hidden_layer2 = Dense(32, activation='relu')(dropout_1)\n",
        "    dropout_2 = Dropout(dropout_rate)(hidden_layer2)\n",
        "    hidden_layer3 = Dense(8, activation='relu')(dropout_2)\n",
        "    dropout_3 = Dropout(dropout_rate)(hidden_layer3)\n",
        "    output_layer = Dense(1, activation='sigmoid')(dropout_3)\n",
        "\n",
        "    model = Model(inputs=input_layer, outputs=output_layer)\n",
        "    opt = Adam(learning_rate=0.01)\n",
        "    model.compile(optimizer=opt, loss=loss, metrics=metrics)\n",
        "\n",
        "    return model\n",
        "saveModel = createModel()"
      ]
    },
    {
      "cell_type": "code",
      "source": [
        "\n",
        "save_hist = save_model.fit(X_train, y_train, epochs=10, batch_size=10, validation_split=0.2)\n",
        "saveModel.save('best_model.h5')"
      ],
      "metadata": {
        "colab": {
          "base_uri": "https://localhost:8080/"
        },
        "id": "01sxA-Wyc4bK",
        "outputId": "71430e66-0af3-45a0-ea11-b0b5a64cedeb"
      },
      "execution_count": 83,
      "outputs": [
        {
          "output_type": "stream",
          "name": "stdout",
          "text": [
            "Epoch 1/10\n",
            "450/450 [==============================] - 1s 3ms/step - loss: 0.4568 - accuracy: 0.7842 - val_loss: 0.4144 - val_accuracy: 0.7920\n",
            "Epoch 2/10\n",
            "450/450 [==============================] - 1s 3ms/step - loss: 0.4527 - accuracy: 0.7800 - val_loss: 0.4133 - val_accuracy: 0.7964\n",
            "Epoch 3/10\n",
            "450/450 [==============================] - 2s 4ms/step - loss: 0.4584 - accuracy: 0.7804 - val_loss: 0.4095 - val_accuracy: 0.8044\n",
            "Epoch 4/10\n",
            "450/450 [==============================] - 1s 3ms/step - loss: 0.4474 - accuracy: 0.7782 - val_loss: 0.4465 - val_accuracy: 0.7236\n",
            "Epoch 5/10\n",
            "450/450 [==============================] - 1s 3ms/step - loss: 0.4577 - accuracy: 0.7720 - val_loss: 0.4193 - val_accuracy: 0.8027\n",
            "Epoch 6/10\n",
            "450/450 [==============================] - 2s 4ms/step - loss: 0.4457 - accuracy: 0.7860 - val_loss: 0.4416 - val_accuracy: 0.7707\n",
            "Epoch 7/10\n",
            "450/450 [==============================] - 2s 4ms/step - loss: 0.4531 - accuracy: 0.7793 - val_loss: 0.4060 - val_accuracy: 0.7982\n",
            "Epoch 8/10\n",
            "450/450 [==============================] - 2s 4ms/step - loss: 0.4453 - accuracy: 0.7842 - val_loss: 0.4215 - val_accuracy: 0.7929\n",
            "Epoch 9/10\n",
            "450/450 [==============================] - 2s 4ms/step - loss: 0.4513 - accuracy: 0.7793 - val_loss: 0.4226 - val_accuracy: 0.7956\n",
            "Epoch 10/10\n",
            "450/450 [==============================] - 1s 3ms/step - loss: 0.4461 - accuracy: 0.7853 - val_loss: 0.4128 - val_accuracy: 0.7973\n"
          ]
        },
        {
          "output_type": "stream",
          "name": "stderr",
          "text": [
            "/usr/local/lib/python3.10/dist-packages/keras/src/engine/training.py:3079: UserWarning: You are saving your model as an HDF5 file via `model.save()`. This file format is considered legacy. We recommend using instead the native Keras format, e.g. `model.save('my_model.keras')`.\n",
            "  saving_api.save_model(\n"
          ]
        }
      ]
    },
    {
      "cell_type": "code",
      "source": [
        "saveModel.save('best_model.h5')"
      ],
      "metadata": {
        "id": "UoOdzlh0e7TM"
      },
      "execution_count": 84,
      "outputs": []
    },
    {
      "cell_type": "code",
      "source": [],
      "metadata": {
        "id": "G1FmVYeWf29g"
      },
      "execution_count": null,
      "outputs": []
    }
  ],
  "metadata": {
    "colab": {
      "provenance": []
    },
    "kernelspec": {
      "display_name": "Python 3",
      "name": "python3"
    },
    "language_info": {
      "name": "python"
    }
  },
  "nbformat": 4,
  "nbformat_minor": 0
}